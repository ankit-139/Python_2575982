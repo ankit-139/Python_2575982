{
 "cells": [
  {
   "cell_type": "markdown",
   "id": "28898a04",
   "metadata": {},
   "source": [
    "# 1. Create a 3x3x3 array with random values."
   ]
  },
  {
   "cell_type": "code",
   "execution_count": 1,
   "id": "84a8768e",
   "metadata": {},
   "outputs": [],
   "source": [
    "import numpy as np"
   ]
  },
  {
   "cell_type": "code",
   "execution_count": 8,
   "id": "b426e2ce",
   "metadata": {},
   "outputs": [
    {
     "name": "stdout",
     "output_type": "stream",
     "text": [
      "[[0.37371635 0.94589619 0.11328082]\n",
      " [0.1237313  0.34333272 0.69814741]\n",
      " [0.52531488 0.41785842 0.14676334]]\n"
     ]
    }
   ],
   "source": [
    "random_array = np.random.random((3, 3))\n",
    "\n",
    "print(random_array)"
   ]
  },
  {
   "cell_type": "markdown",
   "id": "c0a1b777",
   "metadata": {},
   "source": [
    "# 2. Create a 5x5 matrix with values 1,2,3,4 just below the diagonal."
   ]
  },
  {
   "cell_type": "code",
   "execution_count": 9,
   "id": "80fdf434",
   "metadata": {},
   "outputs": [
    {
     "name": "stdout",
     "output_type": "stream",
     "text": [
      "[[0. 0. 0. 0. 0.]\n",
      " [1. 0. 0. 0. 0.]\n",
      " [0. 2. 0. 0. 0.]\n",
      " [0. 0. 3. 0. 0.]\n",
      " [0. 0. 0. 4. 0.]]\n"
     ]
    }
   ],
   "source": [
    "matrix = np.zeros((5, 5))  # Create a 5x5 matrix filled with zeros\n",
    "\n",
    "np.fill_diagonal(matrix[1:], [1, 2, 3, 4])  # Set values 1, 2, 3, 4 just below the diagonal\n",
    "\n",
    "print(matrix)"
   ]
  },
  {
   "cell_type": "markdown",
   "id": "f4a756ed",
   "metadata": {},
   "source": [
    "# 3. Create a 8x8 matrix and fill it with a checkboard pattern."
   ]
  },
  {
   "cell_type": "code",
   "execution_count": 10,
   "id": "c9973ac2",
   "metadata": {},
   "outputs": [
    {
     "name": "stdout",
     "output_type": "stream",
     "text": [
      "[[1 0 1 0 1 0 1 0]\n",
      " [0 1 0 1 0 1 0 1]\n",
      " [1 0 1 0 1 0 1 0]\n",
      " [0 1 0 1 0 1 0 1]\n",
      " [1 0 1 0 1 0 1 0]\n",
      " [0 1 0 1 0 1 0 1]\n",
      " [1 0 1 0 1 0 1 0]\n",
      " [0 1 0 1 0 1 0 1]]\n"
     ]
    }
   ],
   "source": [
    "matrix = np.zeros((8, 8), dtype=int)  # Create an 8x8 matrix filled with zeros\n",
    "\n",
    "# Set the even rows and even columns to 1\n",
    "matrix[::2, ::2] = 1    \n",
    "matrix[1::2, 1::2] = 1\n",
    "\n",
    "print(matrix)"
   ]
  },
  {
   "cell_type": "markdown",
   "id": "7647dafd",
   "metadata": {},
   "source": [
    "# 4. Normalize a 5x5 random matrix."
   ]
  },
  {
   "cell_type": "code",
   "execution_count": 14,
   "id": "c81ff892",
   "metadata": {},
   "outputs": [
    {
     "name": "stdout",
     "output_type": "stream",
     "text": [
      "Original Random Matrix:\n",
      "[[0.99058557 0.37273548 0.99696853 0.47779262 0.28885811]\n",
      " [0.7045576  0.26714648 0.70507662 0.96745211 0.72811845]\n",
      " [0.28089075 0.87568349 0.5974369  0.93680918 0.10106714]\n",
      " [0.80915962 0.26099557 0.25014783 0.99777716 0.61809808]\n",
      " [0.25285922 0.86928807 0.00679888 0.45104351 0.51003982]]\n",
      "\n",
      "Normalized Matrix:\n",
      "[[ 1.3795065  -0.66009247  1.40057745 -0.31328596 -0.93698197]\n",
      " [ 0.43529306 -1.00865473  0.43700643  1.30314012  0.51307032]\n",
      " [-0.96328321  1.00020064  0.08167448  1.20198403 -1.55690302]\n",
      " [ 0.78059719 -1.02895963 -1.06476934  1.40324684  0.14987957]\n",
      " [-1.05581872  0.97908857 -1.86809412 -0.40158806 -0.20683398]]\n"
     ]
    }
   ],
   "source": [
    "# Create a 5x5 random matrix\n",
    "random_matrix = np.random.rand(5, 5)\n",
    "\n",
    "# Normalize the matrix\n",
    "mean = np.mean(random_matrix)\n",
    "std = np.std(random_matrix)\n",
    "normalized_matrix = (random_matrix - mean) / std\n",
    "\n",
    "print(\"Original Random Matrix:\")\n",
    "print(random_matrix)\n",
    "\n",
    "print(\"\\nNormalized Matrix:\")\n",
    "print(normalized_matrix)"
   ]
  },
  {
   "cell_type": "markdown",
   "id": "6f6a1361",
   "metadata": {},
   "source": [
    "# 5. How to find common values between two array?"
   ]
  },
  {
   "cell_type": "code",
   "execution_count": 16,
   "id": "c68a1cf3",
   "metadata": {},
   "outputs": [
    {
     "name": "stdout",
     "output_type": "stream",
     "text": [
      "Common Values: [33 44 55]\n"
     ]
    }
   ],
   "source": [
    "# Create two NumPy arrays\n",
    "array1 = np.array([11, 22, 33, 44, 55])\n",
    "array2 = np.array([33, 44, 55, 66, 77])\n",
    "\n",
    "# Find the common values between the two arrays\n",
    "common_values = np.intersect1d(array1, array2)\n",
    "\n",
    "print(\"Common Values:\", common_values)"
   ]
  },
  {
   "cell_type": "markdown",
   "id": "1f9351db",
   "metadata": {},
   "source": [
    "# 6. How to get the dates of yesterday, today and tomorrow?"
   ]
  },
  {
   "cell_type": "code",
   "execution_count": 19,
   "id": "9f7f40eb",
   "metadata": {},
   "outputs": [
    {
     "name": "stdout",
     "output_type": "stream",
     "text": [
      "Today's Date:  2023-09-21\n",
      "Yesterday's Date:  2023-09-20\n",
      "Tomorrow's Date:  2023-09-22\n"
     ]
    }
   ],
   "source": [
    "todays_date = np.datetime64('today', 'D')\n",
    "print(\"Today's Date: \", todays_date)\n",
    "\n",
    "yesterdays_date = np.datetime64('today', 'D') - np.timedelta64(1, 'D')\n",
    "print(\"Yesterday's Date: \", yesterdays_date)\n",
    "\n",
    "tomorrows_date = np.datetime64('today', 'D') + np.timedelta64(1, 'D')\n",
    "print(\"Tomorrow's Date: \", tomorrows_date)"
   ]
  },
  {
   "cell_type": "markdown",
   "id": "cdea01c8",
   "metadata": {},
   "source": [
    "# 7. Consider two random array A and B, check if they are equal?"
   ]
  },
  {
   "cell_type": "code",
   "execution_count": 25,
   "id": "95c7f62b",
   "metadata": {},
   "outputs": [
    {
     "name": "stdout",
     "output_type": "stream",
     "text": [
      "[[0.57200418 0.30358467 0.67910025]\n",
      " [0.68682967 0.31776491 0.4061798 ]\n",
      " [0.03471906 0.5631077  0.44419911]]\n",
      "\n",
      "[[0.47876942 0.23997014 0.89343285]\n",
      " [0.23203875 0.40981236 0.97891198]\n",
      " [0.81001921 0.97585839 0.04671441]]\n"
     ]
    }
   ],
   "source": [
    "A = np.random.rand(3, 3)\n",
    "B = np.random.rand(3, 3)\n",
    "print(A)\n",
    "print()\n",
    "print(B)"
   ]
  },
  {
   "cell_type": "code",
   "execution_count": 26,
   "id": "9bf71751",
   "metadata": {},
   "outputs": [
    {
     "name": "stdout",
     "output_type": "stream",
     "text": [
      "A and B are not equal.\n"
     ]
    }
   ],
   "source": [
    "check_equal = np.array_equal(A, B) # Check if A and B are equal element-wise\n",
    "\n",
    "if check_equal:\n",
    "    print(\"A and B are equal.\")\n",
    "else:\n",
    "    print(\"A and B are not equal.\")"
   ]
  },
  {
   "cell_type": "markdown",
   "id": "2fc5e22c",
   "metadata": {},
   "source": [
    "# 8. Create random vector size of 10 and replace the maximum value by 0."
   ]
  },
  {
   "cell_type": "code",
   "execution_count": 28,
   "id": "b1ec0c1d",
   "metadata": {},
   "outputs": [
    {
     "name": "stdout",
     "output_type": "stream",
     "text": [
      "[0.37692984 0.67408528 0.61311239 0.79877892 0.88548122 0.74925414\n",
      " 0.80176291 0.46756915 0.83461549 0.93089749]\n"
     ]
    }
   ],
   "source": [
    "# Create a random vector of size 10\n",
    "random_vector = np.random.rand(10)\n",
    "print(random_vector)"
   ]
  },
  {
   "cell_type": "code",
   "execution_count": 29,
   "id": "85b5525f",
   "metadata": {},
   "outputs": [
    {
     "name": "stdout",
     "output_type": "stream",
     "text": [
      "Random Vector with Maximum Value Replaced:\n",
      "[0.37692984 0.67408528 0.61311239 0.79877892 0.88548122 0.74925414\n",
      " 0.80176291 0.46756915 0.83461549 0.        ]\n"
     ]
    }
   ],
   "source": [
    "# Find the index of the maximum value\n",
    "max_index = np.argmax(random_vector)\n",
    "\n",
    "# Replace the maximum value with 0\n",
    "random_vector[max_index] = 0\n",
    "\n",
    "print(\"Random Vector with Maximum Value Replaced:\")\n",
    "print(random_vector)"
   ]
  },
  {
   "cell_type": "markdown",
   "id": "d37e2a2f",
   "metadata": {},
   "source": [
    "# 9. How to print all the values of an array?"
   ]
  },
  {
   "cell_type": "code",
   "execution_count": 41,
   "id": "815750c4",
   "metadata": {},
   "outputs": [
    {
     "name": "stdout",
     "output_type": "stream",
     "text": [
      "[1 2 3 4 5]\n"
     ]
    }
   ],
   "source": [
    "# Create a NumPy array\n",
    "my_array = np.array([1, 2, 3, 4, 5])\n",
    "\n",
    "# Print all values in the array\n",
    "print(my_array)"
   ]
  },
  {
   "cell_type": "markdown",
   "id": "fc2a383d",
   "metadata": {},
   "source": [
    "# 10. Subtract the mean of each row of a matrix."
   ]
  },
  {
   "cell_type": "code",
   "execution_count": 33,
   "id": "72433bf9",
   "metadata": {},
   "outputs": [
    {
     "name": "stdout",
     "output_type": "stream",
     "text": [
      "Original Matrix:\n",
      "[[1 2 3]\n",
      " [4 5 6]\n",
      " [7 8 9]]\n",
      "\n",
      "Matrix with Row Means Subtracted:\n",
      "[[-1.  0.  1.]\n",
      " [-1.  0.  1.]\n",
      " [-1.  0.  1.]]\n"
     ]
    }
   ],
   "source": [
    "# Create a sample matrix (3x3)\n",
    "matrix = np.array([[1, 2, 3],\n",
    "                  [4, 5, 6],\n",
    "                  [7, 8, 9]])\n",
    "\n",
    "# Calculate the row-wise means\n",
    "row_means = np.mean(matrix, axis=1, keepdims=True)\n",
    "\n",
    "# Subtract the row means from each row\n",
    "normalized_matrix = matrix - row_means\n",
    "\n",
    "print(\"Original Matrix:\")\n",
    "print(matrix)\n",
    "\n",
    "print(\"\\nMatrix with Row Means Subtracted:\")\n",
    "print(normalized_matrix)"
   ]
  },
  {
   "cell_type": "markdown",
   "id": "f03e4fdd",
   "metadata": {},
   "source": [
    "# 11. Consider a given vector, how to add 1 to each element indexed by a second vector(be carefull with repeated indices)"
   ]
  },
  {
   "cell_type": "code",
   "execution_count": 44,
   "id": "dc95c288",
   "metadata": {},
   "outputs": [
    {
     "name": "stdout",
     "output_type": "stream",
     "text": [
      "[2. 2. 7. 3. 2. 5. 1. 2. 3. 3.]\n"
     ]
    }
   ],
   "source": [
    "V = np.ones(10)\n",
    "I = np.random.randint(0,len(Z),20)\n",
    "V += np.bincount(I, minlength=len(Z))\n",
    "print(V)"
   ]
  },
  {
   "cell_type": "markdown",
   "id": "a7692314",
   "metadata": {},
   "source": [
    "# 12. How to get diagonal of a dot product?"
   ]
  },
  {
   "cell_type": "code",
   "execution_count": 46,
   "id": "d8b40d7f",
   "metadata": {},
   "outputs": [
    {
     "name": "stdout",
     "output_type": "stream",
     "text": [
      "[[11 22 33]\n",
      " [44 55 66]\n",
      " [77 88 99]]\n",
      "\n",
      "[[99 88 77]\n",
      " [66 55 44]\n",
      " [33 22 11]]\n"
     ]
    }
   ],
   "source": [
    "# Create two matrices\n",
    "matrix_A = np.array([[11, 22, 33], [44, 55, 66], [77, 88, 99]])\n",
    "matrix_B = np.array([[99, 88, 77], [66, 55, 44], [33, 22, 11]])\n",
    "\n",
    "print(matrix_A)\n",
    "print()\n",
    "print(matrix_B)"
   ]
  },
  {
   "cell_type": "code",
   "execution_count": 47,
   "id": "ea496a9d",
   "metadata": {},
   "outputs": [
    {
     "name": "stdout",
     "output_type": "stream",
     "text": [
      "[ 3630  8349 10890]\n"
     ]
    }
   ],
   "source": [
    "# Compute the dot product\n",
    "dot_product = np.dot(matrix_A, matrix_B)\n",
    "\n",
    "# Extract the diagonal elements\n",
    "diagonal = np.diag(dot_product)\n",
    "\n",
    "# Print the diagonal elements\n",
    "print(diagonal)"
   ]
  },
  {
   "cell_type": "markdown",
   "id": "a429ebc4",
   "metadata": {},
   "source": [
    "# 13. How to find a most frequent value in an array?"
   ]
  },
  {
   "cell_type": "code",
   "execution_count": 51,
   "id": "f3307be5",
   "metadata": {},
   "outputs": [
    {
     "name": "stdout",
     "output_type": "stream",
     "text": [
      "[7 0 5 8 3 8 1 5 6 9 0 5 4 7 2 4 2 3 8 3 7 7 1 5 7 3 6 8 9 9 1 9 1 5 0 0 1\n",
      " 8 6 2 3 7 6 0 0 6 2 8 7 5]\n"
     ]
    }
   ],
   "source": [
    "my_array = np.random.randint(0,10,50)\n",
    "print(my_array)"
   ]
  },
  {
   "cell_type": "code",
   "execution_count": 52,
   "id": "b84d92f0",
   "metadata": {},
   "outputs": [
    {
     "name": "stdout",
     "output_type": "stream",
     "text": [
      "Most frequent value: 7\n"
     ]
    }
   ],
   "source": [
    "# Find the most frequent value\n",
    "most_frequent_value = np.bincount(my_array).argmax()\n",
    "\n",
    "print(\"Most frequent value:\", most_frequent_value)"
   ]
  },
  {
   "cell_type": "markdown",
   "id": "9470690e",
   "metadata": {},
   "source": [
    "# 14. How to get the n largest value of an array?"
   ]
  },
  {
   "cell_type": "code",
   "execution_count": 54,
   "id": "5316c2c7",
   "metadata": {},
   "outputs": [
    {
     "name": "stdout",
     "output_type": "stream",
     "text": [
      "3 largest values: [67 73 97]\n"
     ]
    }
   ],
   "source": [
    "# Create a NumPy array\n",
    "my_array = np.array([39, 13, 54, 61, 25, 97, 25, 67, 45, 73, 45])\n",
    "\n",
    "# Specify the value of n (e.g., 3 largest values)\n",
    "n = 3\n",
    "\n",
    "# Use np.partition to get the n largest values\n",
    "n_largest_values = np.partition(my_array, -n)[-n:]\n",
    "\n",
    "print(f\"{n} largest values:\", n_largest_values)"
   ]
  },
  {
   "cell_type": "markdown",
   "id": "682a8caa",
   "metadata": {},
   "source": [
    "# 15. How to create a record array from a regular array?"
   ]
  },
  {
   "cell_type": "code",
   "execution_count": 65,
   "id": "586ab42c",
   "metadata": {},
   "outputs": [
    {
     "name": "stdout",
     "output_type": "stream",
     "text": [
      "[['Hello' 'Patel' '100']\n",
      " ['World' 'Ankit' '201']]\n",
      "\n",
      "[(b'Hello', b'Patel', 100) (b'World', b'Ankit', 201)]\n"
     ]
    }
   ],
   "source": [
    "Z = np.array([(\"Hello\", \"Patel\", 100),\n",
    "              (\"World\", \"Ankit\", 201)])\n",
    "R = np.core.records.fromarrays(Z.T,\n",
    "                               names='col1, col2, col3',\n",
    "                               formats = 'S8, S8, i8')\n",
    "\n",
    "print(Z)\n",
    "print()\n",
    "print(R)"
   ]
  },
  {
   "cell_type": "markdown",
   "id": "401c68db",
   "metadata": {},
   "source": [
    "# 16. How to swap two rows of an array?"
   ]
  },
  {
   "cell_type": "code",
   "execution_count": 69,
   "id": "11a7e9a8",
   "metadata": {},
   "outputs": [
    {
     "name": "stdout",
     "output_type": "stream",
     "text": [
      "Array Before swapping:\n",
      " [[1 2 3]\n",
      " [4 5 6]\n",
      " [7 8 9]]\n",
      "Array after swapping rows:\n",
      "[[7 8 9]\n",
      " [4 5 6]\n",
      " [1 2 3]]\n"
     ]
    }
   ],
   "source": [
    "# Create a NumPy array\n",
    "my_array = np.array([[1, 2, 3],\n",
    "                     [4, 5, 6],\n",
    "                     [7, 8, 9]])\n",
    "print(\"Array Before swapping:\\n\", my_array)\n",
    "\n",
    "# Define the row numbers to swap\n",
    "row1 = 0  # Index of the first row\n",
    "row2 = 2  # Index of the second row\n",
    "\n",
    "# Swap the rows\n",
    "my_array[row1], my_array[row2] = my_array[row2].copy(), my_array[row1].copy()\n",
    "\n",
    "# Print the array after swapping\n",
    "print(\"Array after swapping rows:\")\n",
    "print(my_array)"
   ]
  },
  {
   "cell_type": "markdown",
   "id": "4e12230d",
   "metadata": {},
   "source": [
    "# 17. Write a python code to reshape to the next dimension of numpy array."
   ]
  },
  {
   "cell_type": "code",
   "execution_count": 70,
   "id": "f300ceac",
   "metadata": {},
   "outputs": [
    {
     "name": "stdout",
     "output_type": "stream",
     "text": [
      "Original 1D Array:\n",
      "[1 2 3 4 5 6]\n",
      "\n",
      "Reshaped 2D Array:\n",
      "[[1 2 3]\n",
      " [4 5 6]]\n"
     ]
    }
   ],
   "source": [
    "# Create a 1D NumPy array\n",
    "arr_1d = np.array([1, 2, 3, 4, 5, 6])\n",
    "\n",
    "# Reshape to the next dimension (2D)\n",
    "arr_2d = arr_1d.reshape((2, -1))  # -1 automatically calculates the size of the second dimension\n",
    "\n",
    "# Print the original and reshaped arrays\n",
    "print(\"Original 1D Array:\")\n",
    "print(arr_1d)\n",
    "\n",
    "print(\"\\nReshaped 2D Array:\")\n",
    "print(arr_2d)\n"
   ]
  },
  {
   "cell_type": "code",
   "execution_count": null,
   "id": "ee7f8bf2",
   "metadata": {},
   "outputs": [],
   "source": []
  }
 ],
 "metadata": {
  "kernelspec": {
   "display_name": "Python 3 (ipykernel)",
   "language": "python",
   "name": "python3"
  },
  "language_info": {
   "codemirror_mode": {
    "name": "ipython",
    "version": 3
   },
   "file_extension": ".py",
   "mimetype": "text/x-python",
   "name": "python",
   "nbconvert_exporter": "python",
   "pygments_lexer": "ipython3",
   "version": "3.11.4"
  }
 },
 "nbformat": 4,
 "nbformat_minor": 5
}
