{
 "cells": [
  {
   "cell_type": "markdown",
   "id": "9212e420",
   "metadata": {},
   "source": [
    "# 1. Manipulate using a list.\n",
    "(i) To add new elements to the end of the list\n",
    "(ii) To reverse elements in the list\n",
    "(iii) To display the same list of elements multiple times.\n",
    "(iv) To concatenate two list\n",
    "(v) To sort the elements in the list in ascending order."
   ]
  },
  {
   "cell_type": "code",
   "execution_count": 1,
   "id": "6ae8f643",
   "metadata": {},
   "outputs": [
    {
     "data": {
      "text/plain": [
       "[1, 'Ankit', 257598]"
      ]
     },
     "execution_count": 1,
     "metadata": {},
     "output_type": "execute_result"
    }
   ],
   "source": [
    "# To add new elements to the end of the list\n",
    "list =[1,'Ankit',257598]\n",
    "list"
   ]
  },
  {
   "cell_type": "code",
   "execution_count": 4,
   "id": "170b232b",
   "metadata": {},
   "outputs": [
    {
     "data": {
      "text/plain": [
       "[1, 'Ankit', 257598, 'patel', 'patel', 1, 2, 3, 'patel']"
      ]
     },
     "execution_count": 4,
     "metadata": {},
     "output_type": "execute_result"
    }
   ],
   "source": [
    "list.append('patel')#append used to add single element in the list\n",
    "list.extend ([1,2,3]) # extend is used to add \n",
    "list"
   ]
  },
  {
   "cell_type": "code",
   "execution_count": 5,
   "id": "98c86046",
   "metadata": {},
   "outputs": [
    {
     "name": "stdout",
     "output_type": "stream",
     "text": [
      "Reversed list: \n",
      "\n",
      " [1, 'Ankit', 257598, 'patel', 'patel', 1, 2, 3, 'patel']\n"
     ]
    }
   ],
   "source": [
    "#To reverse elements in the list.\n",
    "list.reverse\n",
    "print(\"Reversed list: \\n\\n\",list)\n"
   ]
  },
  {
   "cell_type": "code",
   "execution_count": 6,
   "id": "61a0c1a1",
   "metadata": {},
   "outputs": [
    {
     "name": "stdout",
     "output_type": "stream",
     "text": [
      "[1, 2, 3, 1, 2, 3]\n"
     ]
    }
   ],
   "source": [
    "# To display the same list of elements multiple times.\n",
    "ls = [1,2,3]\n",
    "mul= ls*2 #list multipled two times\n",
    "print(mul)"
   ]
  },
  {
   "cell_type": "code",
   "execution_count": 7,
   "id": "73999f2d",
   "metadata": {},
   "outputs": [
    {
     "name": "stdout",
     "output_type": "stream",
     "text": [
      "[1, 2, 3, 4, 5, 6]\n"
     ]
    }
   ],
   "source": [
    "# To concatenate two list\n",
    "list1 = [1,2,3]\n",
    "list2 = [4,5,6]\n",
    "con= list1 + list2 #both the list concatenate to one list\n",
    "print(con)"
   ]
  },
  {
   "cell_type": "code",
   "execution_count": 8,
   "id": "f8b83d65",
   "metadata": {},
   "outputs": [
    {
     "data": {
      "text/plain": [
       "[0, 2, 4, 6, 7, 8]"
      ]
     },
     "execution_count": 8,
     "metadata": {},
     "output_type": "execute_result"
    }
   ],
   "source": [
    " # To sort the elements in the list in ascending order.\n",
    "list=[7,8,6,4,2,0]\n",
    "list.sort()\n",
    "list"
   ]
  },
  {
   "cell_type": "markdown",
   "id": "414d5a77",
   "metadata": {},
   "source": [
    "# 2. Write a python program to implement the following using list.\n",
    "(i) Manipulate using tuples.\n",
    "(ii) To add new elements to the end of the tuples.\n",
    "(iii) To reverse elements in the list.\n",
    "(iv) To Display the elements of the same tuple multiple times.\n",
    "(v) To concatenate two tuples.\n",
    "(vi) To sort the elements in the list in ascending order."
   ]
  },
  {
   "cell_type": "code",
   "execution_count": 10,
   "id": "04ae0ab1",
   "metadata": {},
   "outputs": [
    {
     "data": {
      "text/plain": [
       "(4, 5, 6, 7, 8)"
      ]
     },
     "execution_count": 10,
     "metadata": {},
     "output_type": "execute_result"
    }
   ],
   "source": [
    " # Manipulate using tuples.\n",
    "tuple = (4,5,6,7,8)\n",
    "tuple"
   ]
  },
  {
   "cell_type": "code",
   "execution_count": 132,
   "id": "7d6417aa",
   "metadata": {},
   "outputs": [
    {
     "data": {
      "text/plain": [
       "(1, 2, 3)"
      ]
     },
     "execution_count": 132,
     "metadata": {},
     "output_type": "execute_result"
    }
   ],
   "source": [
    "# To add new elements to the end of the tuples.\n",
    "tup1 = (1,2,3)\n",
    "tup1\n",
    "#tuples are immutable, so you can not add new elements"
   ]
  },
  {
   "cell_type": "code",
   "execution_count": null,
   "id": "e64a76e2",
   "metadata": {},
   "outputs": [],
   "source": [
    "lis = list(tup1)\n",
    "lis"
   ]
  },
  {
   "cell_type": "code",
   "execution_count": 119,
   "id": "c59d0a5d",
   "metadata": {},
   "outputs": [
    {
     "data": {
      "text/plain": [
       "(1, 2, 3)"
      ]
     },
     "execution_count": 119,
     "metadata": {},
     "output_type": "execute_result"
    }
   ],
   "source": [
    "# To reverse elements in the list.\n",
    "tup1 = (1,2,3)\n",
    "tup1"
   ]
  },
  {
   "cell_type": "code",
   "execution_count": null,
   "id": "a5b627ac",
   "metadata": {},
   "outputs": [],
   "source": [
    "lis1 = list(tup1)\n",
    "lis1.reverse\n",
    "print(lis1)"
   ]
  },
  {
   "cell_type": "code",
   "execution_count": 19,
   "id": "9a01d3ed",
   "metadata": {},
   "outputs": [
    {
     "name": "stdout",
     "output_type": "stream",
     "text": [
      "(1, 2, 3, 1, 2, 3)\n"
     ]
    }
   ],
   "source": [
    "# To Display the elements of the same tuple multiple times.\n",
    "tup = (1,2,3)\n",
    "mul= tup*2 #list multipled two times\n",
    "print(mul)"
   ]
  },
  {
   "cell_type": "code",
   "execution_count": 20,
   "id": "a5c422c8",
   "metadata": {},
   "outputs": [
    {
     "data": {
      "text/plain": [
       "(1, 2, 3, 3, 4, 5)"
      ]
     },
     "execution_count": 20,
     "metadata": {},
     "output_type": "execute_result"
    }
   ],
   "source": [
    "# To concatenate two tuples.\n",
    "tup1 = (1,2,3)\n",
    "tup2 = (3,4,5)\n",
    "con = tup1 + tup2\n",
    "con"
   ]
  },
  {
   "cell_type": "code",
   "execution_count": 135,
   "id": "372a470a",
   "metadata": {},
   "outputs": [],
   "source": [
    "# To sort the elements in the list in ascending order.\n",
    "lis1 = list(tup1) \n",
    "lis1.sort()\n",
    "print(lis1)"
   ]
  },
  {
   "cell_type": "markdown",
   "id": "92092c58",
   "metadata": {},
   "source": [
    "# 3.Write a python program to implement the following using list.\n",
    "(i) Create a list with integers(minimum 10 numbers)\n",
    "(ii) How to display the last number in the list.\n",
    "(iii) Command for dispaly the values from the list [0:4]\n",
    "(iv) Command for dispalying the values from the list [2:]\n",
    "(v) Command for displaying the values from the list[:6]"
   ]
  },
  {
   "cell_type": "code",
   "execution_count": 26,
   "id": "874e5bba",
   "metadata": {},
   "outputs": [
    {
     "data": {
      "text/plain": [
       "[1, 2, 3, 4, 5, 6, 7, 8, 9, 10]"
      ]
     },
     "execution_count": 26,
     "metadata": {},
     "output_type": "execute_result"
    }
   ],
   "source": [
    "# Create a list with integers(minimum 10 numbers)\n",
    "list = [1,2,3,4,5,6,7,8,9,10]\n",
    "list"
   ]
  },
  {
   "cell_type": "code",
   "execution_count": 28,
   "id": "20c7882a",
   "metadata": {},
   "outputs": [
    {
     "data": {
      "text/plain": [
       "10"
      ]
     },
     "execution_count": 28,
     "metadata": {},
     "output_type": "execute_result"
    }
   ],
   "source": [
    "# How to display the last number in the list.\n",
    "list[-1]"
   ]
  },
  {
   "cell_type": "code",
   "execution_count": 29,
   "id": "c89d83e8",
   "metadata": {},
   "outputs": [
    {
     "data": {
      "text/plain": [
       "[1, 2, 3, 4]"
      ]
     },
     "execution_count": 29,
     "metadata": {},
     "output_type": "execute_result"
    }
   ],
   "source": [
    "# Command for dispaly the values from the list [0:4]\n",
    "list[0:4]"
   ]
  },
  {
   "cell_type": "code",
   "execution_count": 30,
   "id": "d9f9e1ac",
   "metadata": {},
   "outputs": [
    {
     "data": {
      "text/plain": [
       "[3, 4, 5, 6, 7, 8, 9, 10]"
      ]
     },
     "execution_count": 30,
     "metadata": {},
     "output_type": "execute_result"
    }
   ],
   "source": [
    "# Command for dispalying the values from the list [2:]\n",
    "list[2:]"
   ]
  },
  {
   "cell_type": "code",
   "execution_count": 31,
   "id": "ad3784e0",
   "metadata": {},
   "outputs": [
    {
     "data": {
      "text/plain": [
       "[1, 2, 3, 4, 5, 6]"
      ]
     },
     "execution_count": 31,
     "metadata": {},
     "output_type": "execute_result"
    }
   ],
   "source": [
    "# Command for displaying the values from the list[:6]\n",
    "list [:6]"
   ]
  },
  {
   "cell_type": "markdown",
   "id": "3cd8a23f",
   "metadata": {},
   "source": [
    "# 4.Write a python program: tuple1= (10,50,20,40,30)\n",
    "   (i)To display the elements 10 and 50 from tuple1\n",
    "   (ii)To dispaly the length of a tuple1\n",
    "   (iii)To find the minimum element from tuple1\n",
    "   (iv)To add all elements in the tuple1.\n",
    "   (v) To display the same tuple1 multiple time"
   ]
  },
  {
   "cell_type": "code",
   "execution_count": 33,
   "id": "c0c1a7d8",
   "metadata": {},
   "outputs": [
    {
     "data": {
      "text/plain": [
       "(10, 50)"
      ]
     },
     "execution_count": 33,
     "metadata": {},
     "output_type": "execute_result"
    }
   ],
   "source": [
    "# To display the elements 10 and 50 from tuple1\n",
    "tuple1= (10,50,20,40,30)\n",
    "tuple1 [:2]"
   ]
  },
  {
   "cell_type": "code",
   "execution_count": 34,
   "id": "a765f360",
   "metadata": {},
   "outputs": [
    {
     "data": {
      "text/plain": [
       "5"
      ]
     },
     "execution_count": 34,
     "metadata": {},
     "output_type": "execute_result"
    }
   ],
   "source": [
    "# To dispaly the length of a tuple1\n",
    "len(tuple1)"
   ]
  },
  {
   "cell_type": "code",
   "execution_count": 35,
   "id": "07fbc3b8",
   "metadata": {},
   "outputs": [
    {
     "data": {
      "text/plain": [
       "10"
      ]
     },
     "execution_count": 35,
     "metadata": {},
     "output_type": "execute_result"
    }
   ],
   "source": [
    "# To find the minimum element from tuple1\n",
    "min(tuple1)"
   ]
  },
  {
   "cell_type": "code",
   "execution_count": null,
   "id": "a00009e4",
   "metadata": {},
   "outputs": [],
   "source": [
    "# To add all elements in the tuple1.\n",
    "# Since tuples are immutable we cannot add new elements.\n"
   ]
  },
  {
   "cell_type": "code",
   "execution_count": 36,
   "id": "e00f72ae",
   "metadata": {},
   "outputs": [
    {
     "data": {
      "text/plain": [
       "(10, 50, 20, 40, 30, 10, 50, 20, 40, 30)"
      ]
     },
     "execution_count": 36,
     "metadata": {},
     "output_type": "execute_result"
    }
   ],
   "source": [
    "# To display the same tuple1 multiple time.\n",
    "tuple1*2\n"
   ]
  },
  {
   "cell_type": "markdown",
   "id": "af88aead",
   "metadata": {},
   "source": [
    "# 5. Write a python program:\n",
    "   (i) To calculate the length of a string.\n",
    "   (ii) To reverse words in a string\n",
    "   (iii) To display the same string multiple times\n",
    "   (iv) To concatenate two strings\n",
    "   (v) Str1=\"South India\", using string slicing to display \"India\""
   ]
  },
  {
   "cell_type": "code",
   "execution_count": 37,
   "id": "e8abb139",
   "metadata": {},
   "outputs": [
    {
     "data": {
      "text/plain": [
       "11"
      ]
     },
     "execution_count": 37,
     "metadata": {},
     "output_type": "execute_result"
    }
   ],
   "source": [
    "# To calculate the length of a string.\n",
    "Str1=\"South India\"\n",
    "len(Str1)"
   ]
  },
  {
   "cell_type": "code",
   "execution_count": 39,
   "id": "d1b3893f",
   "metadata": {},
   "outputs": [
    {
     "data": {
      "text/plain": [
       "'aidnI htuoS'"
      ]
     },
     "execution_count": 39,
     "metadata": {},
     "output_type": "execute_result"
    }
   ],
   "source": [
    "# To reverse words in a string\n",
    "Str1[: : -1]"
   ]
  },
  {
   "cell_type": "code",
   "execution_count": 42,
   "id": "137d5c30",
   "metadata": {},
   "outputs": [
    {
     "data": {
      "text/plain": [
       "'South IndiaSouth India'"
      ]
     },
     "execution_count": 42,
     "metadata": {},
     "output_type": "execute_result"
    }
   ],
   "source": [
    "# To display the same string multiple times.\n",
    "Str1*2"
   ]
  },
  {
   "cell_type": "code",
   "execution_count": 43,
   "id": "24f2b43a",
   "metadata": {},
   "outputs": [
    {
     "data": {
      "text/plain": [
       "'HelloWorld'"
      ]
     },
     "execution_count": 43,
     "metadata": {},
     "output_type": "execute_result"
    }
   ],
   "source": [
    "# To concatenate two strings.\n",
    "S1=\"Hello\"\n",
    "S2=\"World\"\n",
    "S1+S2"
   ]
  },
  {
   "cell_type": "code",
   "execution_count": 44,
   "id": "aa0822f3",
   "metadata": {},
   "outputs": [
    {
     "data": {
      "text/plain": [
       "'India'"
      ]
     },
     "execution_count": 44,
     "metadata": {},
     "output_type": "execute_result"
    }
   ],
   "source": [
    "# Str1=\"South India\", using string slicing to display \"India\"\n",
    "Str1[6:]"
   ]
  },
  {
   "cell_type": "markdown",
   "id": "8c9fa780",
   "metadata": {},
   "source": [
    "# 6.Perform the following:\n",
    "(i) Creating the Dicitionary.\n",
    "(ii) Accessing values and keys in the dicitionary.\n",
    "(iii) updating the dictionary using function.\n",
    "(iv) clear and delete the dictionary values."
   ]
  },
  {
   "cell_type": "code",
   "execution_count": 45,
   "id": "724f8884",
   "metadata": {},
   "outputs": [
    {
     "data": {
      "text/plain": [
       "{'name': 'Ankit', 'age': 24, 'country': 'India'}"
      ]
     },
     "execution_count": 45,
     "metadata": {},
     "output_type": "execute_result"
    }
   ],
   "source": [
    " # Creating the Dicitionary.\n",
    "dict = {\"name\": \"Ankit\",\"age\": 24, \"country\": \"India\" }\n",
    "dict"
   ]
  },
  {
   "cell_type": "code",
   "execution_count": 49,
   "id": "b1de66dd",
   "metadata": {},
   "outputs": [
    {
     "data": {
      "text/plain": [
       "'India'"
      ]
     },
     "execution_count": 49,
     "metadata": {},
     "output_type": "execute_result"
    }
   ],
   "source": [
    " # Accessing values and keys in the dicitionary.\n",
    "dict[\"country\"]"
   ]
  },
  {
   "cell_type": "code",
   "execution_count": 55,
   "id": "bef17571",
   "metadata": {},
   "outputs": [
    {
     "data": {
      "text/plain": [
       "{'name': 'Ankit', 'age': 24, 'country': 'India', 'city': 'mumbai'}"
      ]
     },
     "execution_count": 55,
     "metadata": {},
     "output_type": "execute_result"
    }
   ],
   "source": [
    "# updating the dictionary using function.\n",
    "dict = {\"name\": \"Ankit\",\"age\": 24, \"country\": \"India\" }\n",
    "dict1 = {'city':\"mumbai\"}\n",
    "dict.update(dict1)\n",
    "dict"
   ]
  },
  {
   "cell_type": "code",
   "execution_count": 129,
   "id": "f7cd7362",
   "metadata": {},
   "outputs": [
    {
     "data": {
      "text/plain": [
       "{}"
      ]
     },
     "execution_count": 129,
     "metadata": {},
     "output_type": "execute_result"
    }
   ],
   "source": [
    "# clear and delete the dictionary values.\n",
    "dict.clear()\n",
    "dict"
   ]
  },
  {
   "cell_type": "markdown",
   "id": "59a3ceb2",
   "metadata": {},
   "source": [
    "# 7. Python Program to insert a number to any position in a list.\n"
   ]
  },
  {
   "cell_type": "code",
   "execution_count": 65,
   "id": "30a1e938",
   "metadata": {},
   "outputs": [
    {
     "data": {
      "text/plain": [
       "[1, 2, 3, 4]"
      ]
     },
     "execution_count": 65,
     "metadata": {},
     "output_type": "execute_result"
    }
   ],
   "source": [
    "list = [1,2,3,4]\n",
    "list"
   ]
  },
  {
   "cell_type": "code",
   "execution_count": 70,
   "id": "a4bb1bea",
   "metadata": {},
   "outputs": [
    {
     "data": {
      "text/plain": [
       "[1, 2, 3, 4, 5, 6, 6]"
      ]
     },
     "execution_count": 70,
     "metadata": {},
     "output_type": "execute_result"
    }
   ],
   "source": [
    "list.insert(5,6) # 5 is the index 6 is the value\n",
    "list"
   ]
  },
  {
   "cell_type": "markdown",
   "id": "351bf6bc",
   "metadata": {},
   "source": [
    "# 8.Python program to delete a element from a list by index.\n"
   ]
  },
  {
   "cell_type": "code",
   "execution_count": 141,
   "id": "2112c73a",
   "metadata": {},
   "outputs": [
    {
     "data": {
      "text/plain": [
       "[2, 3, 4, 5]"
      ]
     },
     "execution_count": 141,
     "metadata": {},
     "output_type": "execute_result"
    }
   ],
   "source": [
    "lis2 = [1,2,3,4,5]\n",
    "lis2\n",
    "lis2.pop(0)\n",
    "lis2"
   ]
  },
  {
   "cell_type": "code",
   "execution_count": null,
   "id": "bec73abe",
   "metadata": {},
   "outputs": [],
   "source": []
  },
  {
   "cell_type": "markdown",
   "id": "3b3660d2",
   "metadata": {},
   "source": [
    "# 9. Write a program to display a number from 1 to 100."
   ]
  },
  {
   "cell_type": "code",
   "execution_count": 130,
   "id": "ab4d5964",
   "metadata": {},
   "outputs": [
    {
     "name": "stdout",
     "output_type": "stream",
     "text": [
      "1 2 3 4 5 6 7 8 9 10 11 12 13 14 15 16 17 18 19 20 21 22 23 24 25 26 27 28 29 30 31 32 33 34 35 36 37 38 39 40 41 42 43 44 45 46 47 48 49 50 51 52 53 54 55 56 57 58 59 60 61 62 63 64 65 66 67 68 69 70 71 72 73 74 75 76 77 78 79 80 81 82 83 84 85 86 87 88 89 90 91 92 93 94 95 96 97 98 99 100 "
     ]
    }
   ],
   "source": [
    "for num in range(1, 101):\n",
    "    print(num,end= ' ')"
   ]
  },
  {
   "cell_type": "markdown",
   "id": "9ae34d38",
   "metadata": {},
   "source": [
    "# 10.Write a python program to find the sum of all items in a tuple.\n"
   ]
  },
  {
   "cell_type": "code",
   "execution_count": 79,
   "id": "a4050d1b",
   "metadata": {},
   "outputs": [
    {
     "name": "stdout",
     "output_type": "stream",
     "text": [
      "Sum of items in the tuple: 15\n"
     ]
    }
   ],
   "source": [
    "tuple = (1, 2, 3, 4, 5)\n",
    "\n",
    "sum = 0 # Initialize sum =0\n",
    "\n",
    "for item in tuple:\n",
    "    sum += item // sum=sum+item\n",
    "\n",
    "print(\"Sum of items in the tuple:\", sum)"
   ]
  },
  {
   "cell_type": "markdown",
   "id": "8fa7c615",
   "metadata": {},
   "source": [
    "# 11. Create a dictionary containing three lambda functions square, cube and square root.\n",
    "(i) e.g dict ={'square': function for squaring, 'cube' : function for cube, 'squareroot': function for square root}\n",
    "(ii) Pass the values (input from the user) to the functions in the dictionary respectively.\n",
    "(iii) The n add the outputs of each and print it."
   ]
  },
  {
   "cell_type": "code",
   "execution_count": 172,
   "id": "1003baca",
   "metadata": {},
   "outputs": [
    {
     "name": "stdout",
     "output_type": "stream",
     "text": [
      "162.2360679774998\n"
     ]
    }
   ],
   "source": [
    "# dict ={'square': function for squaring, 'cube' : function for cube, 'squareroot': function for square root}\n",
    "   "
   ]
  },
  {
   "cell_type": "markdown",
   "id": "0f9b681f",
   "metadata": {},
   "source": [
    "# 12.A list of words is given. Find the words from the list that have their second character in uppercase.\n",
    "ls = ['hello','dear','how','ARe','You']"
   ]
  },
  {
   "cell_type": "code",
   "execution_count": 85,
   "id": "73c41ad7",
   "metadata": {},
   "outputs": [
    {
     "name": "stdout",
     "output_type": "stream",
     "text": [
      "Words with the second character in uppercase: ['ARe']\n"
     ]
    }
   ],
   "source": [
    "ls = ['hello', 'dear', 'how', 'ARe', 'You']\n",
    "\n",
    "result = [] # Initialize a list to store words with the second character in uppercase\n",
    "\n",
    "# Iterate through the list and check the second character of each word\n",
    "for word in ls:\n",
    "    if len(word) > 1 and word[1].isupper(): \n",
    "        result.append(word)\n",
    "\n",
    "\n",
    "print(\"Words with the second character in uppercase:\", result) # Print the words "
   ]
  },
  {
   "cell_type": "markdown",
   "id": "1b2bf4d8",
   "metadata": {},
   "source": [
    "# 1.Control Structures: Write a program to find the first N Prime numbers."
   ]
  },
  {
   "cell_type": "code",
   "execution_count": 142,
   "id": "b1970018",
   "metadata": {},
   "outputs": [
    {
     "name": "stdout",
     "output_type": "stream",
     "text": [
      "2 3 5 7 11 13 17 19 23 29 31 37 41 43 47 53 59 61 67 71 73 79 83 89 97 "
     ]
    }
   ],
   "source": [
    "def isPrime(n):\n",
    "\n",
    "  if(n==1 or n==0):    #since 0 and 1 is not prime return false.\n",
    "    return False\n",
    " \n",
    "  for i in range(2,n):    #Run a loop from 2 to n-1\n",
    "    #if the number is divisible by i, then n is not a prime number.\n",
    "    if(n%i==0):\n",
    "      return False\n",
    "   \n",
    "  #otherwise, n is prime number.\n",
    "  return True\n",
    " \n",
    " \n",
    "N = 100;\n",
    "\n",
    "for i in range(1,N+1):   #check for every number from 1 to N\n",
    "  #check if current number is prime\n",
    "  if(isPrime(i)):\n",
    "    print(i,end=\" \")"
   ]
  },
  {
   "cell_type": "markdown",
   "id": "39ebe39f",
   "metadata": {},
   "source": [
    "# 2. Write the python code that calculates the salary of an employee. Prompt the user to enter the Basic Salary, HRA, TA and DA. Add these components to calculate the gross salary. Also, deduct 10% of salary from the gross salary to be paid as tax and display gross minus tax as net salary."
   ]
  },
  {
   "cell_type": "code",
   "execution_count": 100,
   "id": "a6322b8f",
   "metadata": {},
   "outputs": [
    {
     "name": "stdout",
     "output_type": "stream",
     "text": [
      "Enter Basic Salary: 6464\n",
      "Enter HRA: 5353\n",
      "Enter TA: 3646\n",
      "Enter DA: 4646\n",
      "Gross Salary: 20109.0\n",
      "Tax: 2010.9\n",
      "Net Salary: 18098.1\n"
     ]
    }
   ],
   "source": [
    "basic_salary = float(input(\"Enter Basic Salary: \"))\n",
    "hra = float(input(\"Enter HRA: \"))\n",
    "ta = float(input(\"Enter TA: \"))\n",
    "da = float(input(\"Enter DA: \"))\n",
    "\n",
    "\n",
    "gross_salary = basic_salary + hra + ta + da # Calculate the Gross Salary\n",
    "\n",
    "\n",
    "tax = 0.10 * gross_salary # Calculate the Tax (10% of Gross Salary)\n",
    "\n",
    "\n",
    "net_salary = gross_salary - tax # Calculate the Net Salary (Gross Salary - Tax)\n",
    "\n",
    "# Display the results\n",
    "print(f\"Gross Salary: {gross_salary}\") \n",
    "print(f\"Tax: {tax}\")\n",
    "print(f\"Net Salary: {net_salary}\")"
   ]
  },
  {
   "cell_type": "markdown",
   "id": "beeed33b",
   "metadata": {},
   "source": [
    "# 3. Write a python program to search a string in a given list."
   ]
  },
  {
   "cell_type": "code",
   "execution_count": 91,
   "id": "76caca7b",
   "metadata": {},
   "outputs": [
    {
     "name": "stdout",
     "output_type": "stream",
     "text": [
      "Enter a string to search for: Apple\n",
      "The string 'Apple' was not found in the list.\n"
     ]
    }
   ],
   "source": [
    "list = ['apple', 'banana', 'cherry', 'mango']\n",
    "\n",
    "string = input(\"Enter a string to search for: \") #string to search for\n",
    "\n",
    "\n",
    "found = False # Initialize a flag to check if the string is found\n",
    "\n",
    "\n",
    "for item in list:     # Iterate through the list to search for the string\n",
    "    if item == string:\n",
    "        found = True\n",
    "        break  # Stop searching once the string is found\n",
    "\n",
    "# Check if the string was found and print the result\n",
    "if found:\n",
    "    print(f\"The string '{string}' was found in the list.\")\n",
    "else:\n",
    "    print(f\"The string '{string}' was not found in the list.\")"
   ]
  },
  {
   "cell_type": "markdown",
   "id": "9b29d56a",
   "metadata": {},
   "source": [
    "# 4. Write a python program that accepts a string and calculates the number of uppercase letters and lowercase letters."
   ]
  },
  {
   "cell_type": "code",
   "execution_count": 143,
   "id": "612b4e02",
   "metadata": {},
   "outputs": [
    {
     "name": "stdout",
     "output_type": "stream",
     "text": [
      "Enter a string: Ankit\n",
      "Uppercase letters: 1\n",
      "Lowercase letters: 4\n"
     ]
    }
   ],
   "source": [
    "def count_letters(string):\n",
    "    uppercase_count = 0\n",
    "    lowercase_count = 0\n",
    "\n",
    "    for char in string:\n",
    "        if char.isupper():\n",
    "            uppercase_count += 1\n",
    "        elif char.islower():\n",
    "            lowercase_count += 1\n",
    "\n",
    "    return uppercase_count, lowercase_count\n",
    "\n",
    "input_string = input(\"Enter a string: \")\n",
    "\n",
    "uppercase, lowercase = count_letters(input_string)\n",
    "\n",
    "print(f\"Uppercase letters: {uppercase}\")\n",
    "print(f\"Lowercase letters: {lowercase}\")"
   ]
  },
  {
   "cell_type": "markdown",
   "id": "9fa33794",
   "metadata": {},
   "source": [
    "# 5.Write a python program to display the sum of odd numbers and even numbers that fall between 12 and 37."
   ]
  },
  {
   "cell_type": "code",
   "execution_count": 97,
   "id": "02bc5d5c",
   "metadata": {},
   "outputs": [
    {
     "name": "stdout",
     "output_type": "stream",
     "text": [
      "Sum of even numbers between 12 and 37: 312\n",
      "Sum of odd numbers between 12 and 37: 325\n"
     ]
    }
   ],
   "source": [
    "even = 0\n",
    "odd = 0\n",
    "\n",
    "for num in range(12, 38): # Iterate  numbers from 12 to 37\n",
    "    if num % 2 == 0:\n",
    "        even += num  # Add even number to even\n",
    "    else:\n",
    "        odd += num   # Add odd number to odd\n",
    "\n",
    "# Display the sums\n",
    "print(f\"Sum of even numbers between 12 and 37: {even}\")\n",
    "print(f\"Sum of odd numbers between 12 and 37: {odd}\")"
   ]
  },
  {
   "cell_type": "markdown",
   "id": "c774f1d2",
   "metadata": {},
   "source": [
    "# 6.Write a python program to print the table of any number."
   ]
  },
  {
   "cell_type": "code",
   "execution_count": 104,
   "id": "2439f95b",
   "metadata": {},
   "outputs": [
    {
     "name": "stdout",
     "output_type": "stream",
     "text": [
      "Enter a number: 10\n",
      "Multiplication table for {num}:\n",
      "10 x 1 = 10\n",
      "10 x 2 = 20\n",
      "10 x 3 = 30\n",
      "10 x 4 = 40\n",
      "10 x 5 = 50\n",
      "10 x 6 = 60\n",
      "10 x 7 = 70\n",
      "10 x 8 = 80\n",
      "10 x 9 = 90\n",
      "10 x 10 = 100\n"
     ]
    }
   ],
   "source": [
    "num = int(input(\"Enter a number: \"))\n",
    "\n",
    "table_range = range(1, 11) # Set the range for the multiplication table (1 to 10)\n",
    "\n",
    "print(\"Multiplication table for {num}:\")  # Print the multiplication table\n",
    "\n",
    "for i in table_range:\n",
    "    result = num * i\n",
    "    print(f\"{num} x {i} = {result}\")"
   ]
  },
  {
   "cell_type": "markdown",
   "id": "fae640ba",
   "metadata": {},
   "source": [
    "# 7. Write a python program to sum the first 10 prime numbers."
   ]
  },
  {
   "cell_type": "code",
   "execution_count": 177,
   "id": "d58f5a90",
   "metadata": {},
   "outputs": [
    {
     "name": "stdout",
     "output_type": "stream",
     "text": [
      "The sum of the first 10 prime numbers is: 129\n"
     ]
    }
   ],
   "source": [
    "def is_prime(num):\n",
    "    if num <= 1:\n",
    "        return False\n",
    "    if num <= 3:\n",
    "        return True\n",
    "    if num % 2 == 0 or num % 3 == 0:\n",
    "        return False\n",
    "    i = 5\n",
    "    while i * i <= num:\n",
    "        if num % i == 0 or num % (i + 2) == 0:\n",
    "            return False\n",
    "        i += 6\n",
    "    return True\n",
    "\n",
    "def sum_first_10_primes():\n",
    "    count = 0\n",
    "    num = 2\n",
    "    prime_sum = 0\n",
    "\n",
    "    while count < 10:\n",
    "        if is_prime(num):\n",
    "            prime_sum += num\n",
    "            count += 1\n",
    "        num += 1\n",
    "\n",
    "    return prime_sum\n",
    "\n",
    "result = sum_first_10_primes()\n",
    "print(f\"The sum of the first 10 prime numbers is: {result}\")"
   ]
  },
  {
   "cell_type": "markdown",
   "id": "74361bec",
   "metadata": {},
   "source": [
    "# 8.Write a python program to implement arithmetic operation using nested if statement."
   ]
  },
  {
   "cell_type": "code",
   "execution_count": 149,
   "id": "97047a58",
   "metadata": {},
   "outputs": [
    {
     "name": "stdout",
     "output_type": "stream",
     "text": [
      "Enter the first number: 10\n",
      "Enter the second number: 20\n",
      "Enter an operator (+, -, *, /): +\n",
      "Result: 30.0\n"
     ]
    }
   ],
   "source": [
    "num1 = float(input(\"Enter the first number: \"))\n",
    "num2 = float(input(\"Enter the second number: \"))\n",
    "operator = input(\"Enter an operator (+, -, *, /): \")\n",
    "\n",
    "# Perform the arithmetic operation based on the operator\n",
    "if operator == '+':\n",
    "    result = num1 + num2\n",
    "elif operator == '-':\n",
    "    result = num1 - num2\n",
    "elif operator == '*':\n",
    "    result = num1 * num2\n",
    "elif operator == '/':\n",
    "    if num2 != 0:\n",
    "        result = num1 / num2\n",
    "    else:\n",
    "        result = \"Division by zero is not allowed.\"\n",
    "else:\n",
    "    result = \"Invalid operator.\"\n",
    "\n",
    "# Display the result\n",
    "print(f\"Result: {result}\")"
   ]
  },
  {
   "cell_type": "markdown",
   "id": "302fa0bd",
   "metadata": {},
   "source": [
    "# 9. Write a python program to take the temperature in celcius and convert it to farenheit."
   ]
  },
  {
   "cell_type": "code",
   "execution_count": 151,
   "id": "f8dac3a4",
   "metadata": {},
   "outputs": [
    {
     "name": "stdout",
     "output_type": "stream",
     "text": [
      "Enter the Temperature in Celsius :\n",
      "10\n",
      "Temperature in Fahrenheit : 50.0\n"
     ]
    }
   ],
   "source": [
    "celsius = int(input(\"Enter the Temperature in Celsius :\\n\"))\n",
    "fahrenheit = (1.8 * celsius) + 32\n",
    "print(\"Temperature in Fahrenheit :\", fahrenheit)"
   ]
  },
  {
   "cell_type": "markdown",
   "id": "099ab0d0",
   "metadata": {},
   "source": [
    "# 10. Write a python program to find a maximum and minimum number in a list without using an inbuilt function."
   ]
  },
  {
   "cell_type": "code",
   "execution_count": 152,
   "id": "5a64189b",
   "metadata": {},
   "outputs": [
    {
     "name": "stdout",
     "output_type": "stream",
     "text": [
      "(75, -5)\n"
     ]
    }
   ],
   "source": [
    "def max_min(data):\n",
    "  l = data[0]\n",
    "  s = data[0]\n",
    "  for num in data:\n",
    "    if num> l:\n",
    "      l = num\n",
    "    elif num< s:\n",
    "        s = num\n",
    "  return l, s\n",
    "\n",
    "print(max_min([0, 10, 15, 40, -5, 42, 17, 28, 75]))"
   ]
  },
  {
   "cell_type": "markdown",
   "id": "cca06683",
   "metadata": {},
   "source": [
    "# 11.Write a program in python to print out the number of seconds in 30-day month 30 days, 24 hours in a day, 60 minutes per day, 60 seconds in a minute."
   ]
  },
  {
   "cell_type": "code",
   "execution_count": 153,
   "id": "e2d2b535",
   "metadata": {},
   "outputs": [
    {
     "name": "stdout",
     "output_type": "stream",
     "text": [
      "Number of seconds in a 30-day month: 2592000\n"
     ]
    }
   ],
   "source": [
    "days_per_month = 30\n",
    "hours_per_day = 24\n",
    "minutes_per_hour = 60\n",
    "seconds_per_minute = 60\n",
    "\n",
    "\n",
    "total_seconds = days_per_month * hours_per_day * minutes_per_hour * seconds_per_minute # Calculate the total number of seconds in a 30-day month\n",
    "\n",
    "print(f\"Number of seconds in a 30-day month: {total_seconds}\")"
   ]
  },
  {
   "cell_type": "markdown",
   "id": "e0ef4343",
   "metadata": {},
   "source": [
    "# 12. Write a python program to print out number of seconds in a year."
   ]
  },
  {
   "cell_type": "code",
   "execution_count": 154,
   "id": "dd3be7dd",
   "metadata": {},
   "outputs": [
    {
     "name": "stdout",
     "output_type": "stream",
     "text": [
      "Number of seconds in a year :  31536000\n"
     ]
    }
   ],
   "source": [
    "days=365\n",
    "hours=24\n",
    "minutes=60\n",
    "seconds=60\n",
    "print(\"Number of seconds in a year : \",days*hours*minutes*seconds)"
   ]
  },
  {
   "cell_type": "markdown",
   "id": "174c0240",
   "metadata": {},
   "source": [
    "# 13. A high speed train can travel at an average of 150 mph, how long it take a train travelling at this speed to travel from london to glasgow which is 414 miles away."
   ]
  },
  {
   "cell_type": "code",
   "execution_count": 178,
   "id": "e49e9443",
   "metadata": {},
   "outputs": [
    {
     "name": "stdout",
     "output_type": "stream",
     "text": [
      "It will take 2.76 hours to travel from london to glasgow\n"
     ]
    }
   ],
   "source": [
    "distance = 414\n",
    "speed = 150\n",
    "time = (distance/speed)\n",
    "print(\"It will take\",time,\"hours to travel from london to glasgow\")"
   ]
  },
  {
   "cell_type": "markdown",
   "id": "dae549c5",
   "metadata": {},
   "source": [
    "# 14. Write a python program that defines a variable called days_in_each_school_year and assign 192 to the variable. The program than should print out the total hours that you spend on your school from year 7 to year 11, if each day you spend 6 hours in school days_in_each_school_year=192."
   ]
  },
  {
   "cell_type": "code",
   "execution_count": 171,
   "id": "7ee056da",
   "metadata": {},
   "outputs": [
    {
     "name": "stdout",
     "output_type": "stream",
     "text": [
      "Total hours spent on school from year 7 to year 11: 5760 hours\n"
     ]
    }
   ],
   "source": [
    "days_in_each_school_year = 192\n",
    "\n",
    "# Define the range of school years (from year 7 to year 11)\n",
    "start_year = 7\n",
    "end_year = 11\n",
    "\n",
    "\n",
    "total_hours = (end_year - start_year + 1) * days_in_each_school_year * 6  # Calculate the total hours spent on school\n",
    "\n",
    "# Print the total hours spent on school\n",
    "print(f\"Total hours spent on school from year {start_year} to year {end_year}: {total_hours} hours\")"
   ]
  },
  {
   "cell_type": "markdown",
   "id": "b44b9123",
   "metadata": {},
   "source": [
    "# 15. If the age of ram shyam and khan are input through the keyboard, write a python program to determine the eldest and youngest of the three."
   ]
  },
  {
   "cell_type": "code",
   "execution_count": 170,
   "id": "065c19a4",
   "metadata": {},
   "outputs": [
    {
     "name": "stdout",
     "output_type": "stream",
     "text": [
      "Enter Ram's age: 20\n",
      "Enter Shyam's age: 30\n",
      "Enter Khan's age: 40\n",
      "The eldest among Ram, Shyam, and Khan is 40 years old.\n",
      "The youngest among Ram, Shyam, and Khan is 20 years old.\n"
     ]
    }
   ],
   "source": [
    "ram_age = int(input(\"Enter Ram's age: \"))\n",
    "shyam_age = int(input(\"Enter Shyam's age: \"))\n",
    "khan_age = int(input(\"Enter Khan's age: \"))\n",
    "\n",
    "eldest = max(ram_age, shyam_age, khan_age)\n",
    "youngest = min(ram_age, shyam_age, khan_age)\n",
    "\n",
    "print(f\"The eldest among Ram, Shyam, and Khan is {eldest} years old.\")\n",
    "print(f\"The youngest among Ram, Shyam, and Khan is {youngest} years old.\")"
   ]
  },
  {
   "cell_type": "markdown",
   "id": "0e659549",
   "metadata": {},
   "source": [
    "# 16.Write a python program to rotate a list by right n times with and without slicing technique."
   ]
  },
  {
   "cell_type": "code",
   "execution_count": 158,
   "id": "7aa1136e",
   "metadata": {},
   "outputs": [
    {
     "name": "stdout",
     "output_type": "stream",
     "text": [
      "[4, 5, 6, 1, 2, 3]\n"
     ]
    }
   ],
   "source": [
    "def rightRotate(lists, num):\n",
    "    output_list = []\n",
    " \n",
    "    \n",
    "    for item in range(len(lists) - num, len(lists)): # Will add values from n to the new list\n",
    "        output_list.append(lists[item])\n",
    " \n",
    "    # Will add the values before\n",
    "    # n to the end of new list\n",
    "    for item in range(0, len(lists) - num):\n",
    "        output_list.append(lists[item])\n",
    " \n",
    "    return output_list\n",
    " \n",
    "rotate_num = 3\n",
    "list_1 = [1, 2, 3,4,5,6]\n",
    " \n",
    "print(rightRotate(list_1, rotate_num))"
   ]
  },
  {
   "cell_type": "code",
   "execution_count": 160,
   "id": "7c2bc31e",
   "metadata": {},
   "outputs": [
    {
     "name": "stdout",
     "output_type": "stream",
     "text": [
      "[4, 5, 6, 1, 2, 3]\n"
     ]
    }
   ],
   "source": [
    "n = 3\n",
    "list_1 = [1, 2, 3, 4, 5, 6]\n",
    "list_1 = (list_1[len(list_1) - n:len(list_1)]\n",
    "                 + list_1[0:len(list_1) - n])\n",
    "print(list_1)"
   ]
  },
  {
   "cell_type": "markdown",
   "id": "54e448e7",
   "metadata": {},
   "source": [
    "# 17.Patterns"
   ]
  },
  {
   "cell_type": "code",
   "execution_count": 161,
   "id": "2ff8792d",
   "metadata": {},
   "outputs": [
    {
     "name": "stdout",
     "output_type": "stream",
     "text": [
      "Enter number of rows: 5\n",
      "* \n",
      "\n",
      "* * \n",
      "\n",
      "* * * \n",
      "\n",
      "* * * * \n",
      "\n",
      "* * * * * \n",
      "\n"
     ]
    }
   ],
   "source": [
    "rows = int(input(\"Enter number of rows: \"))\n",
    "\n",
    "for i in range(rows):\n",
    "    for j in range(i+1):\n",
    "        print(\"* \", end=\"\")\n",
    "    print(\"\\n\")"
   ]
  },
  {
   "cell_type": "code",
   "execution_count": 162,
   "id": "afb8a8fe",
   "metadata": {},
   "outputs": [
    {
     "name": "stdout",
     "output_type": "stream",
     "text": [
      "5\n",
      "1\n",
      "11\n",
      "121\n",
      "1221\n",
      "12221\n"
     ]
    }
   ],
   "source": [
    "n = int(input())\n",
    "i=1\n",
    "\n",
    "while i <= n:\n",
    "    j=1\n",
    "    while j <= i:\n",
    "        if i == 1:                                                                                         \n",
    "            print(1,end ='')\n",
    "        \n",
    "        elif j == 1 or j == i:\n",
    "            print(1,end ='')\n",
    "            \n",
    "        else:\n",
    "            print(2,end='')\n",
    "            \n",
    "        j=j+1\n",
    "    print()\n",
    "    i=i+1"
   ]
  },
  {
   "cell_type": "code",
   "execution_count": 165,
   "id": "2c71bb73",
   "metadata": {},
   "outputs": [
    {
     "name": "stdout",
     "output_type": "stream",
     "text": [
      "     \n",
      "    1  \n",
      "   1  1  \n",
      "  1  2  1  \n",
      " 1  3  3  1  \n",
      "1  4  6  4  1  \n"
     ]
    }
   ],
   "source": [
    "def solve(n):\n",
    "   for i in range(n+1):\n",
    "      for j in range(n-i):\n",
    "         print(' ', end='')\n",
    "\n",
    "      C = 1\n",
    "      for j in range(1, i+1):\n",
    "         print(C, ' ', sep='',end=' ')\n",
    "         C = C * (i - j) // j\n",
    "      print()\n",
    "\n",
    "n = 5\n",
    "solve(n)"
   ]
  },
  {
   "cell_type": "code",
   "execution_count": 167,
   "id": "6592680a",
   "metadata": {},
   "outputs": [
    {
     "name": "stdout",
     "output_type": "stream",
     "text": [
      "      * \n",
      "     * * \n",
      "    * * * \n",
      "   * * * * \n",
      "  * * * * * \n",
      " * * * * * * \n",
      "* * * * * * * \n"
     ]
    }
   ],
   "source": [
    "n = 7  # Change this value to adjust the number of rows\n",
    "\n",
    "for i in range(1, n + 1):  # Print spaces\n",
    "    \n",
    "    for j in range(n - i):\n",
    "        print(\" \", end=\"\")\n",
    "\n",
    "    \n",
    "    for k in range(i):     # Print asterisks\n",
    "        print(\"*\", end=\" \")\n",
    "\n",
    "    # Move to the next line\n",
    "    print()"
   ]
  },
  {
   "cell_type": "code",
   "execution_count": 169,
   "id": "ba2bc4ba",
   "metadata": {},
   "outputs": [
    {
     "name": "stdout",
     "output_type": "stream",
     "text": [
      "P\n",
      "Py\n",
      "Pyt\n",
      "Pyth\n",
      "Pytho\n",
      "Python\n"
     ]
    }
   ],
   "source": [
    "word= \"Python\"\n",
    "for i in range(1, len(word) +1):\n",
    "    print(word[:i])"
   ]
  },
  {
   "cell_type": "code",
   "execution_count": null,
   "id": "4b49fdaf",
   "metadata": {},
   "outputs": [],
   "source": []
  }
 ],
 "metadata": {
  "kernelspec": {
   "display_name": "Python 3 (ipykernel)",
   "language": "python",
   "name": "python3"
  },
  "language_info": {
   "codemirror_mode": {
    "name": "ipython",
    "version": 3
   },
   "file_extension": ".py",
   "mimetype": "text/x-python",
   "name": "python",
   "nbconvert_exporter": "python",
   "pygments_lexer": "ipython3",
   "version": "3.11.4"
  }
 },
 "nbformat": 4,
 "nbformat_minor": 5
}
