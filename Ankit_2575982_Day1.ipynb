{
 "cells": [
  {
   "cell_type": "markdown",
   "id": "330bfb9f",
   "metadata": {},
   "source": [
    "# 1. Manipulate using a list.\n",
    "(i) To add new elements to the end of the list\n",
    "(ii) To reverse elements in the list\n",
    "(iii) To display the same list of elements multiple times.\n",
    "(iv) To concatenate two list\n",
    "(v) To sort the elements in the list in ascending order."
   ]
  },
  {
   "cell_type": "code",
   "execution_count": 1,
   "id": "84988300",
   "metadata": {},
   "outputs": [
    {
     "data": {
      "text/plain": [
       "[1, 'Ankit', 257598]"
      ]
     },
     "execution_count": 1,
     "metadata": {},
     "output_type": "execute_result"
    }
   ],
   "source": [
    "# To add new elements to the end of the list\n",
    "list =[1,'Ankit',257598]\n",
    "list"
   ]
  },
  {
   "cell_type": "code",
   "execution_count": 4,
   "id": "2ed1e6a8",
   "metadata": {},
   "outputs": [
    {
     "data": {
      "text/plain": [
       "[1, 'Ankit', 257598, 'patel', 'patel', 1, 2, 3, 'patel']"
      ]
     },
     "execution_count": 4,
     "metadata": {},
     "output_type": "execute_result"
    }
   ],
   "source": [
    "list.append('patel')#append used to add single element in the list\n",
    "list.extend ([1,2,3]) # extend is used to add \n",
    "list"
   ]
  },
  {
   "cell_type": "code",
   "execution_count": 5,
   "id": "5d76a1c9",
   "metadata": {},
   "outputs": [
    {
     "name": "stdout",
     "output_type": "stream",
     "text": [
      "Reversed list: \n",
      "\n",
      " [1, 'Ankit', 257598, 'patel', 'patel', 1, 2, 3, 'patel']\n"
     ]
    }
   ],
   "source": [
    "#To reverse elements in the list.\n",
    "list.reverse\n",
    "print(\"Reversed list: \\n\\n\",list)\n"
   ]
  },
  {
   "cell_type": "code",
   "execution_count": 6,
   "id": "d5c62f30",
   "metadata": {},
   "outputs": [
    {
     "name": "stdout",
     "output_type": "stream",
     "text": [
      "[1, 2, 3, 1, 2, 3]\n"
     ]
    }
   ],
   "source": [
    "# To display the same list of elements multiple times.\n",
    "ls = [1,2,3]\n",
    "mul= ls*2 #list multipled two times\n",
    "print(mul)"
   ]
  },
  {
   "cell_type": "code",
   "execution_count": 7,
   "id": "02200e60",
   "metadata": {},
   "outputs": [
    {
     "name": "stdout",
     "output_type": "stream",
     "text": [
      "[1, 2, 3, 4, 5, 6]\n"
     ]
    }
   ],
   "source": [
    "# To concatenate two list\n",
    "list1 = [1,2,3]\n",
    "list2 = [4,5,6]\n",
    "con= list1 + list2 #both the list concatenate to one list\n",
    "print(con)"
   ]
  },
  {
   "cell_type": "code",
   "execution_count": 8,
   "id": "d73729d1",
   "metadata": {},
   "outputs": [
    {
     "data": {
      "text/plain": [
       "[0, 2, 4, 6, 7, 8]"
      ]
     },
     "execution_count": 8,
     "metadata": {},
     "output_type": "execute_result"
    }
   ],
   "source": [
    " # To sort the elements in the list in ascending order.\n",
    "list=[7,8,6,4,2,0]\n",
    "list.sort()\n",
    "list"
   ]
  },
  {
   "cell_type": "markdown",
   "id": "70ea2b03",
   "metadata": {},
   "source": [
    "# 2. Write a python program to implement the following using list.\n",
    "(i) Manipulate using tuples.\n",
    "(ii) To add new elements to the end of the tuples.\n",
    "(iii) To reverse elements in the list.\n",
    "(iv) To Display the elements of the same tuple multiple times.\n",
    "(v) To concatenate two tuples.\n",
    "(vi) To sort the elements in the list in ascending order."
   ]
  },
  {
   "cell_type": "code",
   "execution_count": 10,
   "id": "c72df534",
   "metadata": {},
   "outputs": [
    {
     "data": {
      "text/plain": [
       "(4, 5, 6, 7, 8)"
      ]
     },
     "execution_count": 10,
     "metadata": {},
     "output_type": "execute_result"
    }
   ],
   "source": [
    " # Manipulate using tuples.\n",
    "tuple = (4,5,6,7,8)\n",
    "tuple"
   ]
  },
  {
   "cell_type": "code",
   "execution_count": 114,
   "id": "4f8dda8a",
   "metadata": {},
   "outputs": [
    {
     "data": {
      "text/plain": [
       "(1, 2, 3)"
      ]
     },
     "execution_count": 114,
     "metadata": {},
     "output_type": "execute_result"
    }
   ],
   "source": [
    "# To add new elements to the end of the tuples.\n",
    "tup = (1,2,3)\n",
    "tup\n",
    "#tuples are immutable, so you can not add new elements"
   ]
  },
  {
   "cell_type": "code",
   "execution_count": 118,
   "id": "ffcbc7e0",
   "metadata": {},
   "outputs": [
    {
     "ename": "TypeError",
     "evalue": "'list' object is not callable",
     "output_type": "error",
     "traceback": [
      "\u001b[1;31m---------------------------------------------------------------------------\u001b[0m",
      "\u001b[1;31mTypeError\u001b[0m                                 Traceback (most recent call last)",
      "Cell \u001b[1;32mIn[118], line 1\u001b[0m\n\u001b[1;32m----> 1\u001b[0m lis \u001b[38;5;241m=\u001b[39m \u001b[38;5;28mlist\u001b[39m(tup)\n",
      "\u001b[1;31mTypeError\u001b[0m: 'list' object is not callable"
     ]
    }
   ],
   "source": [
    "lis = list(tup)"
   ]
  },
  {
   "cell_type": "code",
   "execution_count": 119,
   "id": "958bd344",
   "metadata": {},
   "outputs": [
    {
     "data": {
      "text/plain": [
       "(1, 2, 3)"
      ]
     },
     "execution_count": 119,
     "metadata": {},
     "output_type": "execute_result"
    }
   ],
   "source": [
    "# To reverse elements in the list.\n",
    "tup1 = (1,2,3)\n",
    "tup1"
   ]
  },
  {
   "cell_type": "code",
   "execution_count": 122,
   "id": "dcb3c563",
   "metadata": {},
   "outputs": [
    {
     "ename": "TypeError",
     "evalue": "'list' object is not callable",
     "output_type": "error",
     "traceback": [
      "\u001b[1;31m---------------------------------------------------------------------------\u001b[0m",
      "\u001b[1;31mTypeError\u001b[0m                                 Traceback (most recent call last)",
      "Cell \u001b[1;32mIn[122], line 1\u001b[0m\n\u001b[1;32m----> 1\u001b[0m lis1 \u001b[38;5;241m=\u001b[39m \u001b[38;5;28mlist\u001b[39m(tup1)\n",
      "\u001b[1;31mTypeError\u001b[0m: 'list' object is not callable"
     ]
    }
   ],
   "source": [
    "lis1 = list(tup1)\n",
    "lis1.reverse()\n",
    "print(lis1)"
   ]
  },
  {
   "cell_type": "code",
   "execution_count": 19,
   "id": "f0d6cc0d",
   "metadata": {},
   "outputs": [
    {
     "name": "stdout",
     "output_type": "stream",
     "text": [
      "(1, 2, 3, 1, 2, 3)\n"
     ]
    }
   ],
   "source": [
    "# To Display the elements of the same tuple multiple times.\n",
    "tup = (1,2,3)\n",
    "mul= tup*2 #list multipled two times\n",
    "print(mul)"
   ]
  },
  {
   "cell_type": "code",
   "execution_count": 20,
   "id": "54cf2f68",
   "metadata": {},
   "outputs": [
    {
     "data": {
      "text/plain": [
       "(1, 2, 3, 3, 4, 5)"
      ]
     },
     "execution_count": 20,
     "metadata": {},
     "output_type": "execute_result"
    }
   ],
   "source": [
    "# To concatenate two tuples.\n",
    "tup1 = (1,2,3)\n",
    "tup2 = (3,4,5)\n",
    "con = tup1 + tup2\n",
    "con"
   ]
  },
  {
   "cell_type": "code",
   "execution_count": 110,
   "id": "f25cbbfa",
   "metadata": {},
   "outputs": [
    {
     "ename": "TypeError",
     "evalue": "'list' object is not callable",
     "output_type": "error",
     "traceback": [
      "\u001b[1;31m---------------------------------------------------------------------------\u001b[0m",
      "\u001b[1;31mTypeError\u001b[0m                                 Traceback (most recent call last)",
      "Cell \u001b[1;32mIn[110], line 2\u001b[0m\n\u001b[0;32m      1\u001b[0m \u001b[38;5;66;03m# To sort the elements in the list in ascending order.\u001b[39;00m\n\u001b[1;32m----> 2\u001b[0m conls \u001b[38;5;241m=\u001b[39m \u001b[38;5;28mlist\u001b[39m(con)\n\u001b[0;32m      3\u001b[0m conls\n",
      "\u001b[1;31mTypeError\u001b[0m: 'list' object is not callable"
     ]
    }
   ],
   "source": [
    "# To sort the elements in the list in ascending order.\n",
    "lis1 = list(tup1) \n",
    "lis1.sort()\n",
    "print(lis1)"
   ]
  },
  {
   "cell_type": "markdown",
   "id": "1f1d5041",
   "metadata": {},
   "source": [
    "# 3.Write a python program to implement the following using list.\n",
    "(i) Create a list with integers(minimum 10 numbers)\n",
    "(ii) How to display the last number in the list.\n",
    "(iii) Command for dispaly the values from the list [0:4]\n",
    "(iv) Command for dispalying the values from the list [2:]\n",
    "(v) Command for displaying the values from the list[:6]"
   ]
  },
  {
   "cell_type": "code",
   "execution_count": 26,
   "id": "18465eac",
   "metadata": {},
   "outputs": [
    {
     "data": {
      "text/plain": [
       "[1, 2, 3, 4, 5, 6, 7, 8, 9, 10]"
      ]
     },
     "execution_count": 26,
     "metadata": {},
     "output_type": "execute_result"
    }
   ],
   "source": [
    "# Create a list with integers(minimum 10 numbers)\n",
    "list = [1,2,3,4,5,6,7,8,9,10]\n",
    "list"
   ]
  },
  {
   "cell_type": "code",
   "execution_count": 28,
   "id": "90791cd2",
   "metadata": {},
   "outputs": [
    {
     "data": {
      "text/plain": [
       "10"
      ]
     },
     "execution_count": 28,
     "metadata": {},
     "output_type": "execute_result"
    }
   ],
   "source": [
    "# How to display the last number in the list.\n",
    "list[-1]"
   ]
  },
  {
   "cell_type": "code",
   "execution_count": 29,
   "id": "291ddef7",
   "metadata": {},
   "outputs": [
    {
     "data": {
      "text/plain": [
       "[1, 2, 3, 4]"
      ]
     },
     "execution_count": 29,
     "metadata": {},
     "output_type": "execute_result"
    }
   ],
   "source": [
    "# Command for dispaly the values from the list [0:4]\n",
    "list[0:4]"
   ]
  },
  {
   "cell_type": "code",
   "execution_count": 30,
   "id": "ba75696f",
   "metadata": {},
   "outputs": [
    {
     "data": {
      "text/plain": [
       "[3, 4, 5, 6, 7, 8, 9, 10]"
      ]
     },
     "execution_count": 30,
     "metadata": {},
     "output_type": "execute_result"
    }
   ],
   "source": [
    "# Command for dispalying the values from the list [2:]\n",
    "list[2:]"
   ]
  },
  {
   "cell_type": "code",
   "execution_count": 31,
   "id": "19a417a1",
   "metadata": {},
   "outputs": [
    {
     "data": {
      "text/plain": [
       "[1, 2, 3, 4, 5, 6]"
      ]
     },
     "execution_count": 31,
     "metadata": {},
     "output_type": "execute_result"
    }
   ],
   "source": [
    "# Command for displaying the values from the list[:6]\n",
    "list [:6]"
   ]
  },
  {
   "cell_type": "markdown",
   "id": "d0a18314",
   "metadata": {},
   "source": [
    "# 4.Write a python program: tuple1= (10,50,20,40,30)\n",
    "   (i)To display the elements 10 and 50 from tuple1\n",
    "   (ii)To dispaly the length of a tuple1\n",
    "   (iii)To find the minimum element from tuple1\n",
    "   (iv)To add all elements in the tuple1.\n",
    "   (v) To display the same tuple1 multiple time"
   ]
  },
  {
   "cell_type": "code",
   "execution_count": 33,
   "id": "328e8020",
   "metadata": {},
   "outputs": [
    {
     "data": {
      "text/plain": [
       "(10, 50)"
      ]
     },
     "execution_count": 33,
     "metadata": {},
     "output_type": "execute_result"
    }
   ],
   "source": [
    "# To display the elements 10 and 50 from tuple1\n",
    "tuple1= (10,50,20,40,30)\n",
    "tuple1 [:2]"
   ]
  },
  {
   "cell_type": "code",
   "execution_count": 34,
   "id": "2ca0dc9c",
   "metadata": {},
   "outputs": [
    {
     "data": {
      "text/plain": [
       "5"
      ]
     },
     "execution_count": 34,
     "metadata": {},
     "output_type": "execute_result"
    }
   ],
   "source": [
    "# To dispaly the length of a tuple1\n",
    "len(tuple1)"
   ]
  },
  {
   "cell_type": "code",
   "execution_count": 35,
   "id": "91d6fd89",
   "metadata": {},
   "outputs": [
    {
     "data": {
      "text/plain": [
       "10"
      ]
     },
     "execution_count": 35,
     "metadata": {},
     "output_type": "execute_result"
    }
   ],
   "source": [
    "# To find the minimum element from tuple1\n",
    "min(tuple1)"
   ]
  },
  {
   "cell_type": "code",
   "execution_count": null,
   "id": "2a0f6884",
   "metadata": {},
   "outputs": [],
   "source": [
    "# To add all elements in the tuple1.\n",
    "# Since tuples are immutable we cannot add new elements.\n"
   ]
  },
  {
   "cell_type": "code",
   "execution_count": 36,
   "id": "64f2b258",
   "metadata": {},
   "outputs": [
    {
     "data": {
      "text/plain": [
       "(10, 50, 20, 40, 30, 10, 50, 20, 40, 30)"
      ]
     },
     "execution_count": 36,
     "metadata": {},
     "output_type": "execute_result"
    }
   ],
   "source": [
    "# To display the same tuple1 multiple time.\n",
    "tuple1*2\n"
   ]
  },
  {
   "cell_type": "markdown",
   "id": "cf55ef68",
   "metadata": {},
   "source": [
    "# 5. Write a python program:\n",
    "   (i) To calculate the length of a string.\n",
    "   (ii) To reverse words in a string\n",
    "   (iii) To display the same string multiple times\n",
    "   (iv) To concatenate two strings\n",
    "   (v) Str1=\"South India\", using string slicing to display \"India\""
   ]
  },
  {
   "cell_type": "code",
   "execution_count": 37,
   "id": "a9059aa3",
   "metadata": {},
   "outputs": [
    {
     "data": {
      "text/plain": [
       "11"
      ]
     },
     "execution_count": 37,
     "metadata": {},
     "output_type": "execute_result"
    }
   ],
   "source": [
    "# To calculate the length of a string.\n",
    "Str1=\"South India\"\n",
    "len(Str1)"
   ]
  },
  {
   "cell_type": "code",
   "execution_count": 39,
   "id": "6da4e47a",
   "metadata": {},
   "outputs": [
    {
     "data": {
      "text/plain": [
       "'aidnI htuoS'"
      ]
     },
     "execution_count": 39,
     "metadata": {},
     "output_type": "execute_result"
    }
   ],
   "source": [
    "# To reverse words in a string\n",
    "Str1[: : -1]"
   ]
  },
  {
   "cell_type": "code",
   "execution_count": 42,
   "id": "ff715ebb",
   "metadata": {},
   "outputs": [
    {
     "data": {
      "text/plain": [
       "'South IndiaSouth India'"
      ]
     },
     "execution_count": 42,
     "metadata": {},
     "output_type": "execute_result"
    }
   ],
   "source": [
    "# To display the same string multiple times.\n",
    "Str1*2"
   ]
  },
  {
   "cell_type": "code",
   "execution_count": 43,
   "id": "b4d56d9b",
   "metadata": {},
   "outputs": [
    {
     "data": {
      "text/plain": [
       "'HelloWorld'"
      ]
     },
     "execution_count": 43,
     "metadata": {},
     "output_type": "execute_result"
    }
   ],
   "source": [
    "# To concatenate two strings.\n",
    "S1=\"Hello\"\n",
    "S2=\"World\"\n",
    "S1+S2"
   ]
  },
  {
   "cell_type": "code",
   "execution_count": 44,
   "id": "1f03b989",
   "metadata": {},
   "outputs": [
    {
     "data": {
      "text/plain": [
       "'India'"
      ]
     },
     "execution_count": 44,
     "metadata": {},
     "output_type": "execute_result"
    }
   ],
   "source": [
    "# Str1=\"South India\", using string slicing to display \"India\"\n",
    "Str1[6:]"
   ]
  },
  {
   "cell_type": "markdown",
   "id": "3b75350c",
   "metadata": {},
   "source": [
    "# 6.Perform the following:\n",
    "(i) Creating the Dicitionary.\n",
    "(ii) Accessing values and keys in the dicitionary.\n",
    "(iii) updating the dictionary using function.\n",
    "(iv) clear and delete the dictionary values."
   ]
  },
  {
   "cell_type": "code",
   "execution_count": 45,
   "id": "fbe5e024",
   "metadata": {},
   "outputs": [
    {
     "data": {
      "text/plain": [
       "{'name': 'Ankit', 'age': 24, 'country': 'India'}"
      ]
     },
     "execution_count": 45,
     "metadata": {},
     "output_type": "execute_result"
    }
   ],
   "source": [
    " # Creating the Dicitionary.\n",
    "dict = {\"name\": \"Ankit\",\"age\": 24, \"country\": \"India\" }\n",
    "dict"
   ]
  },
  {
   "cell_type": "code",
   "execution_count": 49,
   "id": "702a390e",
   "metadata": {},
   "outputs": [
    {
     "data": {
      "text/plain": [
       "'India'"
      ]
     },
     "execution_count": 49,
     "metadata": {},
     "output_type": "execute_result"
    }
   ],
   "source": [
    " # Accessing values and keys in the dicitionary.\n",
    "dict[\"country\"]"
   ]
  },
  {
   "cell_type": "code",
   "execution_count": 55,
   "id": "334b3086",
   "metadata": {},
   "outputs": [
    {
     "data": {
      "text/plain": [
       "{'name': 'Ankit', 'age': 24, 'country': 'India', 'city': 'mumbai'}"
      ]
     },
     "execution_count": 55,
     "metadata": {},
     "output_type": "execute_result"
    }
   ],
   "source": [
    "# updating the dictionary using function.\n",
    "dict = {\"name\": \"Ankit\",\"age\": 24, \"country\": \"India\" }\n",
    "dict1 = {'city':\"mumbai\"}\n",
    "dict.update(dict1)\n",
    "dict"
   ]
  },
  {
   "cell_type": "code",
   "execution_count": 61,
   "id": "87fac024",
   "metadata": {},
   "outputs": [
    {
     "ename": "TypeError",
     "evalue": "unbound method dict.clear() needs an argument",
     "output_type": "error",
     "traceback": [
      "\u001b[1;31m---------------------------------------------------------------------------\u001b[0m",
      "\u001b[1;31mTypeError\u001b[0m                                 Traceback (most recent call last)",
      "Cell \u001b[1;32mIn[61], line 2\u001b[0m\n\u001b[0;32m      1\u001b[0m \u001b[38;5;66;03m# clear and delete the dictionary values.\u001b[39;00m\n\u001b[1;32m----> 2\u001b[0m \u001b[38;5;28mdict\u001b[39m\u001b[38;5;241m.\u001b[39mclear()\n\u001b[0;32m      3\u001b[0m \u001b[38;5;28mdict\u001b[39m\n",
      "\u001b[1;31mTypeError\u001b[0m: unbound method dict.clear() needs an argument"
     ]
    }
   ],
   "source": [
    "# clear and delete the dictionary values.\n",
    "dict.clear()\n",
    "dict"
   ]
  },
  {
   "cell_type": "markdown",
   "id": "07e5de8a",
   "metadata": {},
   "source": [
    "# 7. Python Program to insert a number to any position in a list.\n"
   ]
  },
  {
   "cell_type": "code",
   "execution_count": 65,
   "id": "808b931c",
   "metadata": {},
   "outputs": [
    {
     "data": {
      "text/plain": [
       "[1, 2, 3, 4]"
      ]
     },
     "execution_count": 65,
     "metadata": {},
     "output_type": "execute_result"
    }
   ],
   "source": [
    "list = [1,2,3,4]\n",
    "list"
   ]
  },
  {
   "cell_type": "code",
   "execution_count": 70,
   "id": "57b6cb6c",
   "metadata": {},
   "outputs": [
    {
     "data": {
      "text/plain": [
       "[1, 2, 3, 4, 5, 6, 6]"
      ]
     },
     "execution_count": 70,
     "metadata": {},
     "output_type": "execute_result"
    }
   ],
   "source": [
    "list.insert(5,6) # 5 is the index 6 is the value\n",
    "list"
   ]
  },
  {
   "cell_type": "markdown",
   "id": "0d0b1039",
   "metadata": {},
   "source": [
    "# 8.Python program to delete a element from a list by index.\n"
   ]
  },
  {
   "cell_type": "code",
   "execution_count": 75,
   "id": "28ae17b6",
   "metadata": {},
   "outputs": [],
   "source": [
    "list = [1,2,3,4,5]\n",
    "del list"
   ]
  },
  {
   "cell_type": "code",
   "execution_count": null,
   "id": "5224103f",
   "metadata": {},
   "outputs": [],
   "source": []
  },
  {
   "cell_type": "markdown",
   "id": "843e6671",
   "metadata": {},
   "source": [
    "# 9. Write a program to display a number from 1 to 100."
   ]
  },
  {
   "cell_type": "code",
   "execution_count": 77,
   "id": "7a31fec6",
   "metadata": {},
   "outputs": [
    {
     "name": "stdout",
     "output_type": "stream",
     "text": [
      "1\n",
      "2\n",
      "3\n",
      "4\n",
      "5\n",
      "6\n",
      "7\n",
      "8\n",
      "9\n",
      "10\n",
      "11\n",
      "12\n",
      "13\n",
      "14\n",
      "15\n",
      "16\n",
      "17\n",
      "18\n",
      "19\n",
      "20\n",
      "21\n",
      "22\n",
      "23\n",
      "24\n",
      "25\n",
      "26\n",
      "27\n",
      "28\n",
      "29\n",
      "30\n",
      "31\n",
      "32\n",
      "33\n",
      "34\n",
      "35\n",
      "36\n",
      "37\n",
      "38\n",
      "39\n",
      "40\n",
      "41\n",
      "42\n",
      "43\n",
      "44\n",
      "45\n",
      "46\n",
      "47\n",
      "48\n",
      "49\n",
      "50\n",
      "51\n",
      "52\n",
      "53\n",
      "54\n",
      "55\n",
      "56\n",
      "57\n",
      "58\n",
      "59\n",
      "60\n",
      "61\n",
      "62\n",
      "63\n",
      "64\n",
      "65\n",
      "66\n",
      "67\n",
      "68\n",
      "69\n",
      "70\n",
      "71\n",
      "72\n",
      "73\n",
      "74\n",
      "75\n",
      "76\n",
      "77\n",
      "78\n",
      "79\n",
      "80\n",
      "81\n",
      "82\n",
      "83\n",
      "84\n",
      "85\n",
      "86\n",
      "87\n",
      "88\n",
      "89\n",
      "90\n",
      "91\n",
      "92\n",
      "93\n",
      "94\n",
      "95\n",
      "96\n",
      "97\n",
      "98\n",
      "99\n",
      "100\n"
     ]
    }
   ],
   "source": [
    "for num in range(1, 101):\n",
    "    print(num)"
   ]
  },
  {
   "cell_type": "markdown",
   "id": "81dd91c8",
   "metadata": {},
   "source": [
    "# 10.Write a python program to find the sum of all items in a tuple.\n"
   ]
  },
  {
   "cell_type": "code",
   "execution_count": 79,
   "id": "e864018b",
   "metadata": {},
   "outputs": [
    {
     "name": "stdout",
     "output_type": "stream",
     "text": [
      "Sum of items in the tuple: 15\n"
     ]
    }
   ],
   "source": [
    "tuple = (1, 2, 3, 4, 5)\n",
    "\n",
    "sum = 0 # Initialize sum =0\n",
    "\n",
    "for item in tuple:\n",
    "    sum += item // sum=sum+item\n",
    "\n",
    "print(\"Sum of items in the tuple:\", sum)"
   ]
  },
  {
   "cell_type": "markdown",
   "id": "295ba96d",
   "metadata": {},
   "source": [
    "# 11. Create a dictionary containing three lambda functions square, cube and square root.\n",
    "(i) e.g dict ={'square': function for squaring, 'cube' : function for cube, 'squareroot': function for square root}\n",
    "(ii) Pass the values (input from the user) to the functions in the dictionary respectively.\n",
    "(iii) Then add the outputs of each and print it."
   ]
  },
  {
   "cell_type": "code",
   "execution_count": 82,
   "id": "92ae016e",
   "metadata": {},
   "outputs": [
    {
     "data": {
      "text/plain": [
       "{'square': 'function for squaring',\n",
       " 'cube': 'function for cube',\n",
       " 'squareroot': 'function for square root'}"
      ]
     },
     "execution_count": 82,
     "metadata": {},
     "output_type": "execute_result"
    }
   ],
   "source": [
    "# dict ={'square': function for squaring, 'cube' : function for cube, 'squareroot': function for square root}\n",
    "dict ={'square': 'function for squaring', 'cube' : 'function for cube', 'squareroot': 'function for square root'}\n",
    "dict"
   ]
  },
  {
   "cell_type": "markdown",
   "id": "537060a6",
   "metadata": {},
   "source": [
    "# 12.A list of words is given. Find the words from the list that have their second character in uppercase.\n",
    "ls = ['hello','dear','how','ARe','You']"
   ]
  },
  {
   "cell_type": "code",
   "execution_count": 85,
   "id": "2bfb4ee4",
   "metadata": {},
   "outputs": [
    {
     "name": "stdout",
     "output_type": "stream",
     "text": [
      "Words with the second character in uppercase: ['ARe']\n"
     ]
    }
   ],
   "source": [
    "ls = ['hello', 'dear', 'how', 'ARe', 'You']\n",
    "\n",
    "result = [] # Initialize a list to store words with the second character in uppercase\n",
    "\n",
    "# Iterate through the list and check the second character of each word\n",
    "for word in ls:\n",
    "    if len(word) > 1 and word[1].isupper(): \n",
    "        result.append(word)\n",
    "\n",
    "\n",
    "print(\"Words with the second character in uppercase:\", result) # Print the words that meet the criteria"
   ]
  },
  {
   "cell_type": "markdown",
   "id": "09a6a599",
   "metadata": {},
   "source": [
    "# 1.Control Structures:\n",
    "    1. Write a program to find the first N Prime numbers."
   ]
  },
  {
   "cell_type": "code",
   "execution_count": null,
   "id": "a36acd58",
   "metadata": {},
   "outputs": [],
   "source": []
  },
  {
   "cell_type": "markdown",
   "id": "d4731dc4",
   "metadata": {},
   "source": [
    "# 2. Write the python code that calculates the salary of an employee. Prompt the user to enter the Basic Salary, HRA, TA and DA. Add these components to calculate the gross salary. Also, deduct 10% of salary from the gross salary to be paid as tax and display gross minus tax as net salary."
   ]
  },
  {
   "cell_type": "code",
   "execution_count": 100,
   "id": "4500e6af",
   "metadata": {},
   "outputs": [
    {
     "name": "stdout",
     "output_type": "stream",
     "text": [
      "Enter Basic Salary: 6464\n",
      "Enter HRA: 5353\n",
      "Enter TA: 3646\n",
      "Enter DA: 4646\n",
      "Gross Salary: 20109.0\n",
      "Tax: 2010.9\n",
      "Net Salary: 18098.1\n"
     ]
    }
   ],
   "source": [
    "basic_salary = float(input(\"Enter Basic Salary: \"))\n",
    "hra = float(input(\"Enter HRA: \"))\n",
    "ta = float(input(\"Enter TA: \"))\n",
    "da = float(input(\"Enter DA: \"))\n",
    "\n",
    "\n",
    "gross_salary = basic_salary + hra + ta + da # Calculate the Gross Salary\n",
    "\n",
    "\n",
    "tax = 0.10 * gross_salary # Calculate the Tax (10% of Gross Salary)\n",
    "\n",
    "\n",
    "net_salary = gross_salary - tax # Calculate the Net Salary (Gross Salary - Tax)\n",
    "\n",
    "# Display the results\n",
    "print(f\"Gross Salary: {gross_salary}\") \n",
    "print(f\"Tax: {tax}\")\n",
    "print(f\"Net Salary: {net_salary}\")"
   ]
  },
  {
   "cell_type": "markdown",
   "id": "38148823",
   "metadata": {},
   "source": [
    "# 3. Write a python program to search a string in a given list."
   ]
  },
  {
   "cell_type": "code",
   "execution_count": 91,
   "id": "e74c2fae",
   "metadata": {},
   "outputs": [
    {
     "name": "stdout",
     "output_type": "stream",
     "text": [
      "Enter a string to search for: Apple\n",
      "The string 'Apple' was not found in the list.\n"
     ]
    }
   ],
   "source": [
    "list = ['apple', 'banana', 'cherry', 'mango']\n",
    "\n",
    "string = input(\"Enter a string to search for: \") #string to search for\n",
    "\n",
    "\n",
    "found = False # Initialize a flag to check if the string is found\n",
    "\n",
    "\n",
    "for item in list:     # Iterate through the list to search for the string\n",
    "    if item == string:\n",
    "        found = True\n",
    "        break  # Stop searching once the string is found\n",
    "\n",
    "# Check if the string was found and print the result\n",
    "if found:\n",
    "    print(f\"The string '{string}' was found in the list.\")\n",
    "else:\n",
    "    print(f\"The string '{string}' was not found in the list.\")"
   ]
  },
  {
   "cell_type": "markdown",
   "id": "23cca968",
   "metadata": {},
   "source": [
    "# 5.Write a python program to display the sum of odd numbers and even numbers that fall between 12 and 37."
   ]
  },
  {
   "cell_type": "code",
   "execution_count": 97,
   "id": "b3a8035a",
   "metadata": {},
   "outputs": [
    {
     "name": "stdout",
     "output_type": "stream",
     "text": [
      "Sum of even numbers between 12 and 37: 312\n",
      "Sum of odd numbers between 12 and 37: 325\n"
     ]
    }
   ],
   "source": [
    "even = 0\n",
    "odd = 0\n",
    "\n",
    "for num in range(12, 38): # Iterate through numbers from 12 to 37\n",
    "    if num % 2 == 0:\n",
    "        even += num  # Add even number to even\n",
    "    else:\n",
    "        odd += num   # Add odd number to odd\n",
    "\n",
    "# Display the sums\n",
    "print(f\"Sum of even numbers between 12 and 37: {even}\")\n",
    "print(f\"Sum of odd numbers between 12 and 37: {odd}\")"
   ]
  },
  {
   "cell_type": "markdown",
   "id": "4c4d3bcb",
   "metadata": {},
   "source": [
    "# 6.Write a python program to print the table of any number."
   ]
  },
  {
   "cell_type": "code",
   "execution_count": 104,
   "id": "cd4f3040",
   "metadata": {},
   "outputs": [
    {
     "name": "stdout",
     "output_type": "stream",
     "text": [
      "Enter a number: 10\n",
      "Multiplication table for {num}:\n",
      "10 x 1 = 10\n",
      "10 x 2 = 20\n",
      "10 x 3 = 30\n",
      "10 x 4 = 40\n",
      "10 x 5 = 50\n",
      "10 x 6 = 60\n",
      "10 x 7 = 70\n",
      "10 x 8 = 80\n",
      "10 x 9 = 90\n",
      "10 x 10 = 100\n"
     ]
    }
   ],
   "source": [
    "num = int(input(\"Enter a number: \"))\n",
    "\n",
    "table_range = range(1, 11) # Set the range for the multiplication table (1 to 10)\n",
    "\n",
    "print(\"Multiplication table for {num}:\")  # Print the multiplication table\n",
    "\n",
    "for i in table_range:\n",
    "    result = num * i\n",
    "    print(f\"{num} x {i} = {result}\")"
   ]
  },
  {
   "cell_type": "markdown",
   "id": "9d2a770a",
   "metadata": {},
   "source": [
    "# 7."
   ]
  },
  {
   "cell_type": "code",
   "execution_count": null,
   "id": "e673072d",
   "metadata": {},
   "outputs": [],
   "source": []
  }
 ],
 "metadata": {
  "kernelspec": {
   "display_name": "Python 3 (ipykernel)",
   "language": "python",
   "name": "python3"
  },
  "language_info": {
   "codemirror_mode": {
    "name": "ipython",
    "version": 3
   },
   "file_extension": ".py",
   "mimetype": "text/x-python",
   "name": "python",
   "nbconvert_exporter": "python",
   "pygments_lexer": "ipython3",
   "version": "3.11.4"
  }
 },
 "nbformat": 4,
 "nbformat_minor": 5
}
