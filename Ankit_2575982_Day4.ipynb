{
 "cells": [
  {
   "cell_type": "markdown",
   "id": "a5c8064a",
   "metadata": {},
   "source": [
    "# 1.Write a python program with Exception handling to input marks for five subjects Physics, Chemistry, Biology, Mathematics, and Computer. Calculate the percentage and grade according to the following:\n",
    "\n",
    "i)Percentage >= 90% : Grade A\n",
    "\n",
    "ii) Percentage >= 80% : Grade B\n",
    "\n",
    "iii)Percentage >= 70% : Grade C\n",
    "\n",
    "iv) Percentage >= 60%: Grade D\n",
    "\n",
    "v) Percentage >= 40%: Grade E\n",
    "\n",
    "vi) Percentage<40%: Grade F"
   ]
  },
  {
   "cell_type": "code",
   "execution_count": 5,
   "id": "bd97cffa",
   "metadata": {},
   "outputs": [
    {
     "name": "stdout",
     "output_type": "stream",
     "text": [
      "Enter Physics marks: 75\n",
      "Enter Chemistry marks: 57\n",
      "Enter Biology marks: 79\n",
      "Enter Mathematics marks: 54\n",
      "Enter Computer marks: ankit\n",
      "Invalid input. Please enter numeric values for marks.\n"
     ]
    }
   ],
   "source": [
    "try:\n",
    "  \n",
    "    physics = int(input(\"Enter Physics marks: \"))                  # Input marks for five subjects\n",
    "    chemistry = int(input(\"Enter Chemistry marks: \"))\n",
    "    biology = int(input(\"Enter Biology marks: \"))\n",
    "    mathematics = int(input(\"Enter Mathematics marks: \"))\n",
    "    computer = int(input(\"Enter Computer marks: \"))\n",
    "\n",
    "   \n",
    "    total_marks = physics + chemistry + biology + mathematics + computer          # Calculate the total marks\n",
    "\n",
    "   \n",
    "    percentage = (total_marks / 500) * 100                       # Calculate the percentage                    \n",
    "\n",
    "    \n",
    "    if percentage >= 90:                        # Assing grade based on the percentage\n",
    "        grade = \"A\"\n",
    "    elif percentage >= 80:\n",
    "        grade = \"B\"\n",
    "    elif percentage >= 70:\n",
    "        grade = \"C\"\n",
    "    elif percentage >= 60:\n",
    "        grade = \"D\"\n",
    "    elif percentage >= 40:\n",
    "        grade = \"E\"\n",
    "    else:\n",
    "        grade = \"F\"\n",
    "\n",
    "    # Display the percentage and grade\n",
    "    print(f\"Percentage: {percentage:.2f}%\")\n",
    "    print(\"Grade: {grade}\")\n",
    "\n",
    "except ValueError:\n",
    "    print(\"Invalid input. Please enter numeric values for marks.\")\n",
    "    "
   ]
  },
  {
   "cell_type": "markdown",
   "id": "271b9f29",
   "metadata": {},
   "source": [
    "# 2.Write a python program with Exception handling to input electricity unit charges and calculate the total electricity bill according to the given condition:\n",
    "\n",
    "1) For the first 50 units Rs. 0.50/unit\n",
    "\n",
    "2) For the next 100 units Rs. 0.75/unit\n",
    "\n",
    "3) For the next 100 units Rs. 1.20/unit\n",
    "\n",
    "4) For units above 250 Rs. 1.50/unit\n",
    "\n",
    "5) An additional surcharge of 20% is added to the bill."
   ]
  },
  {
   "cell_type": "code",
   "execution_count": 7,
   "id": "bd130240",
   "metadata": {},
   "outputs": [
    {
     "name": "stdout",
     "output_type": "stream",
     "text": [
      "Enter electricity units consumed: 500\n",
      "Total electricity bill: Rs. 714.00\n"
     ]
    }
   ],
   "source": [
    "try:\n",
    "   \n",
    "    units = float(input(\"Enter electricity units consumed: \"))\n",
    "\n",
    "    bill = 0.0\n",
    "    surcharge = 0.0\n",
    "\n",
    "\n",
    "    if units <= 50:          #500 units consumed\n",
    "        bill = units * 0.50  #first 50 units * 0.50\n",
    "    elif units <= 150:\n",
    "        bill = (50 * 0.50) + ((units - 50) * 0.75)   #\n",
    "    elif units <= 250:\n",
    "        bill = (50 * 0.50) + (100 * 0.75) + ((units - 150) * 1.20)\n",
    "    else:\n",
    "        bill = (50 * 0.50) + (100 * 0.75) + (100 * 1.20) + ((units - 250) * 1.50)\n",
    "\n",
    "    \n",
    "    surcharge = 0.20 * bill    # Calculate the surcharge\n",
    "\n",
    "    \n",
    "    total_bill = bill + surcharge   # Calculate the total bill\n",
    "\n",
    "    \n",
    "    print(f\"Total electricity bill: Rs. {total_bill:.2f}\")   # Display the total bill\n",
    "\n",
    "except ValueError:\n",
    "    print(\"Invalid input. Please enter a numeric value for electricity units.\")"
   ]
  },
  {
   "cell_type": "markdown",
   "id": "e8e298d5",
   "metadata": {},
   "source": [
    "# 3. Write a Python program with exception handling to input the week number and print the week day."
   ]
  },
  {
   "cell_type": "code",
   "execution_count": 11,
   "id": "5ac1822e",
   "metadata": {},
   "outputs": [
    {
     "name": "stdout",
     "output_type": "stream",
     "text": [
      "Enter the week number between 1 to 7: hgf\n",
      "Invalid input: Week number must be between 1 to 7\n"
     ]
    }
   ],
   "source": [
    "try:\n",
    "    \n",
    "    week_number = int(input(\"Enter the week number between 1 to 7: \"))\n",
    "\n",
    "   \n",
    "    if week_number < 1 or week_number > 7:                   # Check if the input week number is valid\n",
    "        raise ValueError(\"Week number must be between 1 to 7\")\n",
    "\n",
    "    \n",
    "    weekdays = [\"Monday\", \"Tuesday\", \"Wednesday\", \"Thursday\", \"Friday\", \"Saturday\", \"Sunday\"]  \n",
    "\n",
    "    \n",
    "    print(f\"Weekday for week {week_number} is {weekdays[week_number - 1]}\")\n",
    "\n",
    "except ValueError as ve:\n",
    "    print(\"Invalid input: Week number must be between 1 to 7\")"
   ]
  },
  {
   "cell_type": "markdown",
   "id": "639e60f8",
   "metadata": {},
   "source": [
    "# 5.Write a Python program for finding the most frequent words in a text read from a file.\n",
    "\n",
    "1) Initially open the text file in read mode.\n",
    "\n",
    "ii) Make all the letters in the document into lowercase letters and split the words in each\n",
    "line.\n",
    "\n",
    "iii) Get the words in an order.\n",
    "\n",
    "iv) Sort the words for finding the most frequent words in the file.\n",
    "\n",
    "v) Print the most frequent words in the file."
   ]
  },
  {
   "cell_type": "code",
   "execution_count": 12,
   "id": "a6440f85",
   "metadata": {},
   "outputs": [
    {
     "name": "stdout",
     "output_type": "stream",
     "text": [
      "Most frequent words:\n",
      "machine: 4 times\n",
      "learning: 4 times\n",
      "and: 4 times\n",
      "to: 3 times\n",
      "a: 3 times\n",
      "of: 3 times\n",
      "tutorial: 2 times\n",
      "the: 2 times\n",
      "that: 2 times\n",
      "on: 2 times\n"
     ]
    }
   ],
   "source": [
    "try:\n",
    "    with open(\"Source.txt\", \"r\") as file:\n",
    "        text = file.read()\n",
    "except FileNotFoundError:\n",
    "    print(\"File not found.\")\n",
    "    exit(1)\n",
    "except Exception as e:\n",
    "    print(f\"An error occurred: {e}\")\n",
    "    exit(1)\n",
    "\n",
    "\n",
    "words = text.lower().split()   #Convert all letters to lowercase and split the words\n",
    "\n",
    "word_count = Counter(words)     #Count the frequency of each word\n",
    "\n",
    "\n",
    "\n",
    "sorted_word_count = sorted(word_count.items(), key=lambda x: x[1], reverse=True)  # Step 4: Sort the words by frequency (most frequent first)\n",
    "\n",
    "\n",
    "print(\"Most frequent words:\")\n",
    "for word, count in sorted_word_count[:10]:  # 10 is used to display the top 10 frequently used word.\n",
    "    print(f\"{word}: {count} times\")"
   ]
  },
  {
   "cell_type": "code",
   "execution_count": null,
   "id": "2eb2bbcd",
   "metadata": {},
   "outputs": [],
   "source": []
  },
  {
   "cell_type": "code",
   "execution_count": null,
   "id": "4dc47629",
   "metadata": {},
   "outputs": [],
   "source": []
  },
  {
   "cell_type": "code",
   "execution_count": null,
   "id": "0685db5a",
   "metadata": {},
   "outputs": [],
   "source": []
  }
 ],
 "metadata": {
  "kernelspec": {
   "display_name": "Python 3 (ipykernel)",
   "language": "python",
   "name": "python3"
  },
  "language_info": {
   "codemirror_mode": {
    "name": "ipython",
    "version": 3
   },
   "file_extension": ".py",
   "mimetype": "text/x-python",
   "name": "python",
   "nbconvert_exporter": "python",
   "pygments_lexer": "ipython3",
   "version": "3.11.4"
  }
 },
 "nbformat": 4,
 "nbformat_minor": 5
}
