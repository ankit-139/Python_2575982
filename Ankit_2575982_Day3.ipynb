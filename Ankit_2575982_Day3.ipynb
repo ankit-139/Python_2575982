{
 "cells": [
  {
   "cell_type": "markdown",
   "id": "d85b3664",
   "metadata": {},
   "source": [
    "# 1. Write a python function that copies a file reading and writing upto 50 characters at a time."
   ]
  },
  {
   "cell_type": "code",
   "execution_count": 28,
   "id": "8673c6e2",
   "metadata": {},
   "outputs": [],
   "source": [
    " def copy_file(source_file_path, destination_file_path):\n",
    "    source_file = open('Source.txt', 'r')\n",
    "    destination_file = open('Destination.txt', 'w')\n",
    "\n",
    "    while True:\n",
    "        data = source_file.read(50)\n",
    "        if not data:\n",
    "            break\n",
    "        destination_file.write(data)\n",
    "\n",
    "    source_file.close()\n",
    "    destination_file.close()\n",
    "    \n",
    "    \n",
    "source_file_path = 'Source.txt' \n",
    "destination_file_path = 'Destination.txt'\n",
    "\n",
    "\n",
    "copy_file(source_file_path, destination_file_path)"
   ]
  },
  {
   "cell_type": "code",
   "execution_count": 29,
   "id": "bd03b6a8",
   "metadata": {},
   "outputs": [
    {
     "name": "stdout",
     "output_type": "stream",
     "text": [
      "Machine Learning tutorial covers basic and advanced concepts, specially designed to cater to both students and experienced working professionals.\n",
      "\n",
      "\n",
      "\n",
      "This machine learning tutorial helps you gain a solid introduction to the fundamentals of machine learning and explore a wide range of techniques, including supervised, unsupervised, and reinforcement learning.\n",
      "\n",
      "\n",
      "\n",
      "Machine learning (ML) is a subdomain of artificial intelligence (AI) that focuses on developing systems that learnâ€”or improve performanceâ€”based on the data they ingest.\n"
     ]
    }
   ],
   "source": [
    "with open('Destination.txt', 'r') as destination_file:\n",
    "   \n",
    "    line = destination_file.readline()          \n",
    "    while line:\n",
    "        print(line)\n",
    "        line = destination_file.readline()"
   ]
  },
  {
   "cell_type": "markdown",
   "id": "85add4d7",
   "metadata": {},
   "source": [
    "# 2. Print all the number present in the text file and print the blank space in that file."
   ]
  },
  {
   "cell_type": "code",
   "execution_count": 18,
   "id": "59c5172f",
   "metadata": {},
   "outputs": [
    {
     "name": "stdout",
     "output_type": "stream",
     "text": [
      "129\n"
     ]
    }
   ],
   "source": [
    "file = open(\"Source.txt\", \"r\")\n",
    "  \n",
    "count = 0\n",
    "while True:\n",
    "    \n",
    "   \n",
    "    char = file.read(1)\n",
    "      \n",
    "    if char.isspace():\n",
    "        count += 1\n",
    "    if not char:\n",
    "        break\n",
    "  \n",
    "print(count)"
   ]
  },
  {
   "cell_type": "markdown",
   "id": "0c3c8833",
   "metadata": {},
   "source": [
    "# 3.Write a function called sed that takes as arguments a pattern string, a replacement string. and two filenames; it should read the first file and write the contents into the second file (creating it if necessary). If the pattern string appears anywhere in the file, it should be replaced with the replacement string. If an error occurs while opening, reading, writing. or closing files, your program should catch the exception. print an error message, and exit."
   ]
  },
  {
   "cell_type": "code",
   "execution_count": 30,
   "id": "afa91b6a",
   "metadata": {},
   "outputs": [],
   "source": [
    "def sed(pattern, replacement, input_file, output_file):\n",
    "    try:\n",
    "        with open(input_file, 'r') as infile, open(output_file, 'w') as outfile:\n",
    "            for line in infile:\n",
    "                # Replace the pattern with the replacement string in the line\n",
    "                modified_line = line.replace('Machine', 'ML')\n",
    "                outfile.write(modified_line)\n",
    "    \n",
    "    except FileNotFoundError:\n",
    "        print(f\"Error: File not found - {input_file} or {output_file}\")\n",
    "    except Exception as e:\n",
    "        print(f\"An error occurred: {str(e)}\")\n",
    "\n",
    "pattern = 'Machine'  \n",
    "replacement = 'ML'  \n",
    "input_file = 'Source.txt'  \n",
    "output_file = 'Destination.txt' \n",
    "\n",
    "\n",
    "sed(pattern, replacement, input_file, output_file)\n"
   ]
  },
  {
   "cell_type": "code",
   "execution_count": 31,
   "id": "b789e8b6",
   "metadata": {},
   "outputs": [
    {
     "name": "stdout",
     "output_type": "stream",
     "text": [
      "ML Learning tutorial covers basic and advanced concepts, specially designed to cater to both students and experienced working professionals.\n",
      "\n",
      "\n",
      "\n",
      "This machine learning tutorial helps you gain a solid introduction to the fundamentals of machine learning and explore a wide range of techniques, including supervised, unsupervised, and reinforcement learning.\n",
      "\n",
      "\n",
      "\n",
      "ML learning (ML) is a subdomain of artificial intelligence (AI) that focuses on developing systems that learnâ€”or improve performanceâ€”based on the data they ingest.\n"
     ]
    }
   ],
   "source": [
    "with open('Destination.txt', 'r') as destination_file:\n",
    "   \n",
    "    line = destination_file.readline()          # Read a single line from the file\n",
    "    while line:\n",
    "        print(line)\n",
    "        line = destination_file.readline()"
   ]
  },
  {
   "cell_type": "markdown",
   "id": "36a7a943",
   "metadata": {},
   "source": [
    "# 5.Text File Search and Replace: You have a text file with a large amount of text, and you want to search for specific words or phrases and replace them with new content.\n",
    "\n",
    "a. Write Python code to search for and replace text within a text file.\n",
    "\n",
    "b. How would you handle cases where you need to perform multiple replacements in a single pass"
   ]
  },
  {
   "cell_type": "code",
   "execution_count": 4,
   "id": "40ff5d2e",
   "metadata": {},
   "outputs": [
    {
     "name": "stdout",
     "output_type": "stream",
     "text": [
      "An error occurred: 'charmap' codec can't decode byte 0x9d in position 279: character maps to <undefined>\n"
     ]
    }
   ],
   "source": [
    "def search_replace(file_path, search_text, replace_text):\n",
    "    try:\n",
    "      \n",
    "        with open('Text_data.txt', 'r') as file:        # Open the file for reading\n",
    "            file_content = file.read()\n",
    "\n",
    "      \n",
    "        updated_content = file_content.replace(search_text, replace_text)        # Perform the search and replace\n",
    "\n",
    "    \n",
    "        with open('Text_data.txt', 'w') as file:\n",
    "            file.write(updated_content)\n",
    "\n",
    "        print(f\"Search and replace completed in '{file_path}'.\")\n",
    "\n",
    "    except FileNotFoundError:\n",
    "        print(f\"Error: File '{file_path}' not found.\")\n",
    "    except Exception as e:\n",
    "        print(f\"An error occurred: {e}\")\n",
    "\n",
    "\n",
    "file_path = 'Text_Data.txt'  \n",
    "search_text = 'AI'\n",
    "replace_text = 'Artificial intelligence'\n",
    "\n",
    "search_replace(file_path, search_text, replace_text)"
   ]
  },
  {
   "cell_type": "markdown",
   "id": "ca24cd5b",
   "metadata": {},
   "source": [
    "# 6.Write a Python script that concatenates the contents of multiple text files into a single output file. Allow the user to specify the input files and the output file."
   ]
  },
  {
   "cell_type": "code",
   "execution_count": 24,
   "id": "f4b26c87",
   "metadata": {},
   "outputs": [],
   "source": [
    "file1 = open('text1.txt', 'r')\n",
    "file2 = open('text2.txt', 'r')\n",
    "\n",
    "# Read the contents of the text files\n",
    "content1 = file1.read()\n",
    "content2 = file2.read()\n",
    "\n",
    "# Close the source text files\n",
    "file1.close()\n",
    "file2.close()\n",
    "\n",
    "# Open the destination file\n",
    "destination_file = open('concatenated.txt', 'w')\n",
    "\n",
    "# Write the concatenated content to the destination file\n",
    "destination_file.write(content1 + content2)\n",
    "# Close the destination file\n",
    "destination_file.close()"
   ]
  },
  {
   "cell_type": "code",
   "execution_count": 25,
   "id": "b74851fd",
   "metadata": {},
   "outputs": [
    {
     "name": "stdout",
     "output_type": "stream",
     "text": [
      "Hello World!!!!!!Ankit Patel!!!!!!!\n"
     ]
    }
   ],
   "source": [
    "with open('concatenated.txt', 'r') as destination_file:\n",
    "   \n",
    "    line = destination_file.readline()          # Read a single line from the file\n",
    "    while line:\n",
    "        print(line)\n",
    "        line = destination_file.readline()"
   ]
  },
  {
   "cell_type": "markdown",
   "id": "6d36ec49",
   "metadata": {},
   "source": [
    "# 7. You are given a text file named input.txt containing a list of words, one word per line. Your task is to create a Python program that reads the contents of input.txt, processes the words, and writes the result to an output file named output.txt.\n",
    "\n",
    "a. The program should perform the following operations:\n",
    "\n",
    "i. Read the words from input.txt.\n",
    "\n",
    "ii. For each word in the input file, calculate the length of the word and store it in a dictionary where the word is the key, and the length is the value.\n",
    "\n",
    "iii. Write the word-length dictionary to output.txt in the following format:"
   ]
  },
  {
   "cell_type": "code",
   "execution_count": 26,
   "id": "1b6b1848",
   "metadata": {},
   "outputs": [
    {
     "name": "stdout",
     "output_type": "stream",
     "text": [
      "Word lengths successfully written to 'output.txt'\n"
     ]
    }
   ],
   "source": [
    "try:\n",
    "    # Open the input and output files\n",
    "    with open('input.txt', 'r') as input_file, open('output.txt', 'w') as output_file:\n",
    "        word_lengths = {}  # Dictionary to store word lengths\n",
    "\n",
    "        # Read and process each word from the input file\n",
    "        for line in input_file:\n",
    "            word = line.strip()  # Remove leading/trailing whitespace\n",
    "            length = len(word)  # Calculate word length\n",
    "            word_lengths[word] = length  # Store in the dictionary\n",
    "\n",
    "        # Write the word length dictionary to the output file\n",
    "        for word, length in word_lengths.items():\n",
    "            output_file.write(f\"{word}: {length}\\n\")\n",
    "\n",
    "    print(\"Word lengths successfully written to 'output.txt'\")\n",
    "\n",
    "except FileNotFoundError:\n",
    "    print(\"Error: Input file 'input.txt' not found.\")\n",
    "except PermissionError:\n",
    "    print(\"Error: Permission denied while accessing files.\")\n",
    "except Exception as e:\n",
    "    print(f\"An error occurred: {e}\")"
   ]
  },
  {
   "cell_type": "code",
   "execution_count": 27,
   "id": "5fc3ed67",
   "metadata": {},
   "outputs": [
    {
     "name": "stdout",
     "output_type": "stream",
     "text": [
      "apple: 5\n",
      "\n",
      "banana: 6\n",
      "\n",
      "cherry: 6\n",
      "\n"
     ]
    }
   ],
   "source": [
    "with open('output.txt', 'r') as destination_file:\n",
    "   \n",
    "    line = destination_file.readline()          # Read a single line from the file\n",
    "    while line:\n",
    "        print(line)\n",
    "        line = destination_file.readline()"
   ]
  },
  {
   "cell_type": "markdown",
   "id": "875cf135",
   "metadata": {},
   "source": [
    "# 8. Assume that you are developing a student gradebook system for a school. The system should allow teachers to input student grades for various subjects, store the data in files, and provide students with the ability to view their grades.\n",
    "\n",
    "Design a Python program that accomplishes the following tasks:\n",
    "\n",
    "i. Teachers should be able to input grades for students in different subjects.\n",
    "\n",
    "ii. Store the student grade data in separate text files for each subject.\n",
    "\n",
    "iii. Students should be able to view their grades for each subject.\n",
    "\n",
    "iv. Implement error handling for file operations, such as file not found or permission issues."
   ]
  },
  {
   "cell_type": "code",
   "execution_count": 1,
   "id": "dd3473a5",
   "metadata": {},
   "outputs": [
    {
     "name": "stdout",
     "output_type": "stream",
     "text": [
      "\n",
      "Student Gradebook System\n",
      "1. Input grades for a subject\n",
      "2. View grades for a subject\n",
      "3. Exit\n",
      "Select an option (1/2/3): 1\n",
      "Enter the subject name: Maths\n",
      "Enter the student's name: Ankit\n",
      "Enter the student's grade: A\n",
      "Grade for Maths of Ankit has been saved successfully!\n",
      "\n",
      "Student Gradebook System\n",
      "1. Input grades for a subject\n",
      "2. View grades for a subject\n",
      "3. Exit\n",
      "Select an option (1/2/3): 3\n"
     ]
    }
   ],
   "source": [
    "import os\n",
    "\n",
    "# Function to input and store student grades\n",
    "def input_grades(subject, student_name, grade):\n",
    "    try:\n",
    "        # Create a folder for each subject if it doesn't exist\n",
    "        if not os.path.exists(subject):\n",
    "            os.makedirs(subject)\n",
    "\n",
    "        # Create or open a text file for the subject\n",
    "        file_path = os.path.join(subject, f\"{student_name}.txt\")\n",
    "        \n",
    "        with open(file_path, 'w') as file:\n",
    "            file.write(f\"Subject: {subject}\\n\")\n",
    "            file.write(f\"Student: {student_name}\\n\")\n",
    "            file.write(f\"Grade: {grade}\\n\")\n",
    "        \n",
    "        print(f\"Grade for {subject} of {student_name} has been saved successfully!\")\n",
    "\n",
    "    except Exception as e:\n",
    "        print(f\"An error occurred while saving grades: {e}\")\n",
    "\n",
    "# Function for students to view their grades\n",
    "def view_grades(subject, student_name):\n",
    "    try:\n",
    "        file_path = os.path.join(subject, f\"{student_name}.txt\")\n",
    "\n",
    "        # Check if the file exists\n",
    "        if os.path.exists(file_path):\n",
    "            with open(file_path, 'r') as file:\n",
    "                grades_data = file.read()\n",
    "            print(grades_data)\n",
    "        else:\n",
    "            print(f\"No grades found for {subject} of {student_name}\")\n",
    "\n",
    "    except Exception as e:\n",
    "        print(f\"An error occurred while viewing grades: {e}\")\n",
    "\n",
    "if __name__ == \"__main__\":\n",
    "    while True:\n",
    "        print(\"\\nStudent Gradebook System\")\n",
    "        print(\"1. Input grades for a subject\")\n",
    "        print(\"2. View grades for a subject\")\n",
    "        print(\"3. Exit\")\n",
    "        choice = input(\"Select an option (1/2/3): \")\n",
    "\n",
    "        if choice == \"1\":\n",
    "            subject = input(\"Enter the subject name: \")\n",
    "            student_name = input(\"Enter the student's name: \")\n",
    "            grade = input(\"Enter the student's grade: \")\n",
    "            input_grades(subject, student_name, grade)\n",
    "        elif choice == \"2\":\n",
    "            subject = input(\"Enter the subject name: \")\n",
    "            student_name = input(\"Enter the student's name: \")\n",
    "            view_grades(subject, student_name)\n",
    "        elif choice == \"3\":\n",
    "            break\n",
    "        else:\n",
    "            print(\"Invalid choice. Please select a valid option.\")"
   ]
  },
  {
   "cell_type": "markdown",
   "id": "7b7edfa1",
   "metadata": {},
   "source": [
    "# 4. Log File"
   ]
  },
  {
   "cell_type": "code",
   "execution_count": 3,
   "id": "ef5f4abf",
   "metadata": {},
   "outputs": [
    {
     "ename": "SyntaxError",
     "evalue": "invalid syntax (1260842907.py, line 7)",
     "output_type": "error",
     "traceback": [
      "\u001b[1;36m  Cell \u001b[1;32mIn[3], line 7\u001b[1;36m\u001b[0m\n\u001b[1;33m    with open(log_file_path, 'r') as log file:\u001b[0m\n\u001b[1;37m                                         ^\u001b[0m\n\u001b[1;31mSyntaxError\u001b[0m\u001b[1;31m:\u001b[0m invalid syntax\n"
     ]
    }
   ],
   "source": [
    "# Function to parse a log file and extract relevant information\n",
    "\n",
    "def parse_log_file(log_file_path):\n",
    "    log_entries_by_date = {}\n",
    "\n",
    "    \n",
    "    with open(log_file_path, 'r') as log file:\n",
    "    for line in log file:\n",
    "        #Split each line into timestamp and message \n",
    "        parts = line.strip().split(' ',1)\n",
    "        if len(parts) == 2:\n",
    "\n",
    "            timestamp, message = parts\n",
    "\n",
    "            date= timestamp[:10] # Extract the date portion\n",
    "\n",
    "            if date in log_entries_by_date: \n",
    "                log_entries_by_date[date].append(message)\n",
    "            else:\n",
    "\n",
    "                log_entries_by_date[date] [message]\n",
    "\n",
    "\n",
    "    return log entries_by_date\n",
    "\n",
    "def analyze_log_data(log_entries_by_date):\n",
    "\n",
    "     for date, entries in log_entries_by_date.items():\n",
    "            print(f\"Date: {date}\")\n",
    "            print(f\"total entries : {len(entries)}\")\n",
    "            print(\"sample entries\")\n",
    "            for i, entry in enumerate(entries[:5], start=1):\n",
    "                  print(f\"{i}. {entry}\")\n",
    "\n",
    "            print(\"-------\")\n",
    "I"
   ]
  },
  {
   "cell_type": "code",
   "execution_count": 4,
   "id": "288768d1",
   "metadata": {},
   "outputs": [
    {
     "ename": "NameError",
     "evalue": "name 'parse_log_file' is not defined",
     "output_type": "error",
     "traceback": [
      "\u001b[1;31m---------------------------------------------------------------------------\u001b[0m",
      "\u001b[1;31mNameError\u001b[0m                                 Traceback (most recent call last)",
      "Cell \u001b[1;32mIn[4], line 3\u001b[0m\n\u001b[0;32m      1\u001b[0m \u001b[38;5;28;01mif\u001b[39;00m \u001b[38;5;18m__name__\u001b[39m \u001b[38;5;241m==\u001b[39m \u001b[38;5;124m\"\u001b[39m\u001b[38;5;124m__main__\u001b[39m\u001b[38;5;124m\"\u001b[39m:\n\u001b[0;32m      2\u001b[0m     log_file_path \u001b[38;5;241m=\u001b[39m \u001b[38;5;124m'\u001b[39m\u001b[38;5;124mlogfile.txt\u001b[39m\u001b[38;5;124m'\u001b[39m\n\u001b[1;32m----> 3\u001b[0m     log_entries_by_date \u001b[38;5;241m=\u001b[39m parse_log_file(log_file_path)\n\u001b[0;32m      4\u001b[0m     analyze_log_data(log_entries_by_date)\n",
      "\u001b[1;31mNameError\u001b[0m: name 'parse_log_file' is not defined"
     ]
    }
   ],
   "source": [
    "if __name__ == \"__main__\":\n",
    "    log_file_path = 'logfile.txt'\n",
    "    log_entries_by_date = parse_log_file(log_file_path)\n",
    "    analyze_log_data(log_entries_by_date)"
   ]
  },
  {
   "cell_type": "code",
   "execution_count": null,
   "id": "81407308",
   "metadata": {},
   "outputs": [],
   "source": []
  }
 ],
 "metadata": {
  "kernelspec": {
   "display_name": "Python 3 (ipykernel)",
   "language": "python",
   "name": "python3"
  },
  "language_info": {
   "codemirror_mode": {
    "name": "ipython",
    "version": 3
   },
   "file_extension": ".py",
   "mimetype": "text/x-python",
   "name": "python",
   "nbconvert_exporter": "python",
   "pygments_lexer": "ipython3",
   "version": "3.11.4"
  }
 },
 "nbformat": 4,
 "nbformat_minor": 5
}
