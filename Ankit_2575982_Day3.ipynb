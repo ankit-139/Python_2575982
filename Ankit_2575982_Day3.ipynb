{
 "cells": [
  {
   "cell_type": "markdown",
   "id": "f6e83a2a",
   "metadata": {},
   "source": [
    "# 1. Write a pyhton function that copies a file reading and writing upto 50 characters at a time."
   ]
  },
  {
   "cell_type": "code",
   "execution_count": 28,
   "id": "8eab8a55",
   "metadata": {},
   "outputs": [],
   "source": [
    " def copy_file(source_file_path, destination_file_path):\n",
    "    source_file = open('Source.txt', 'r')\n",
    "    destination_file = open('Destination.txt', 'w')\n",
    "\n",
    "    while True:\n",
    "        data = source_file.read(50)\n",
    "        if not data:\n",
    "            break\n",
    "        destination_file.write(data)\n",
    "\n",
    "    source_file.close()\n",
    "    destination_file.close()\n",
    "    \n",
    "    \n",
    "source_file_path = 'Source.txt' \n",
    "destination_file_path = 'Destination.txt'\n",
    "\n",
    "\n",
    "copy_file(source_file_path, destination_file_path)"
   ]
  },
  {
   "cell_type": "code",
   "execution_count": 29,
   "id": "0746c3e6",
   "metadata": {},
   "outputs": [
    {
     "name": "stdout",
     "output_type": "stream",
     "text": [
      "Machine Learning tutorial covers basic and advanced concepts, specially designed to cater to both students and experienced working professionals.\n",
      "\n",
      "\n",
      "\n",
      "This machine learning tutorial helps you gain a solid introduction to the fundamentals of machine learning and explore a wide range of techniques, including supervised, unsupervised, and reinforcement learning.\n",
      "\n",
      "\n",
      "\n",
      "Machine learning (ML) is a subdomain of artificial intelligence (AI) that focuses on developing systems that learnâ€”or improve performanceâ€”based on the data they ingest.\n"
     ]
    }
   ],
   "source": [
    "with open('Destination.txt', 'r') as destination_file:\n",
    "   \n",
    "    line = destination_file.readline()          \n",
    "    while line:\n",
    "        print(line)\n",
    "        line = destination_file.readline()"
   ]
  },
  {
   "cell_type": "markdown",
   "id": "825d6ef9",
   "metadata": {},
   "source": [
    "# 2. Print all the number present in the text file and print the blank space in that file."
   ]
  },
  {
   "cell_type": "code",
   "execution_count": 18,
   "id": "c288c64b",
   "metadata": {},
   "outputs": [
    {
     "name": "stdout",
     "output_type": "stream",
     "text": [
      "129\n"
     ]
    }
   ],
   "source": [
    "file = open(\"Source.txt\", \"r\")\n",
    "  \n",
    "count = 0\n",
    "while True:\n",
    "    \n",
    "   \n",
    "    char = file.read(1)\n",
    "      \n",
    "    if char.isspace():\n",
    "        count += 1\n",
    "    if not char:\n",
    "        break\n",
    "  \n",
    "print(count)"
   ]
  },
  {
   "cell_type": "markdown",
   "id": "3ccdbc47",
   "metadata": {},
   "source": [
    "# 3.Write a function called sed that takes as arguments a pattern string, a replacement string. and two filenames; it should read the first file and write the contents into the second file (creating it if necessary). If the pattern string appears anywhere in the file, it should be replaced with the replacement string. If an error occurs while opening, reading, writing. or closing files, your program should catch the exception. print an error message, and exit."
   ]
  },
  {
   "cell_type": "code",
   "execution_count": 30,
   "id": "d914cdc3",
   "metadata": {},
   "outputs": [],
   "source": [
    "def sed(pattern, replacement, input_file, output_file):\n",
    "    try:\n",
    "        with open(input_file, 'r') as infile, open(output_file, 'w') as outfile:\n",
    "            for line in infile:\n",
    "                # Replace the pattern with the replacement string in the line\n",
    "                modified_line = line.replace('Machine', 'ML')\n",
    "                outfile.write(modified_line)\n",
    "    \n",
    "    except FileNotFoundError:\n",
    "        print(f\"Error: File not found - {input_file} or {output_file}\")\n",
    "    except Exception as e:\n",
    "        print(f\"An error occurred: {str(e)}\")\n",
    "\n",
    "pattern = 'Machine'  \n",
    "replacement = 'ML'  \n",
    "input_file = 'Source.txt'  \n",
    "output_file = 'Destination.txt' \n",
    "\n",
    "\n",
    "sed(pattern, replacement, input_file, output_file)\n"
   ]
  },
  {
   "cell_type": "code",
   "execution_count": 31,
   "id": "f5764356",
   "metadata": {},
   "outputs": [
    {
     "name": "stdout",
     "output_type": "stream",
     "text": [
      "ML Learning tutorial covers basic and advanced concepts, specially designed to cater to both students and experienced working professionals.\n",
      "\n",
      "\n",
      "\n",
      "This machine learning tutorial helps you gain a solid introduction to the fundamentals of machine learning and explore a wide range of techniques, including supervised, unsupervised, and reinforcement learning.\n",
      "\n",
      "\n",
      "\n",
      "ML learning (ML) is a subdomain of artificial intelligence (AI) that focuses on developing systems that learnâ€”or improve performanceâ€”based on the data they ingest.\n"
     ]
    }
   ],
   "source": [
    "with open('Destination.txt', 'r') as destination_file:\n",
    "   \n",
    "    line = destination_file.readline()          # Read a single line from the file\n",
    "    while line:\n",
    "        print(line)\n",
    "        line = destination_file.readline()"
   ]
  },
  {
   "cell_type": "markdown",
   "id": "598fd3fa",
   "metadata": {},
   "source": [
    "# 5"
   ]
  },
  {
   "cell_type": "code",
   "execution_count": 34,
   "id": "2cd96f79",
   "metadata": {},
   "outputs": [
    {
     "ename": "SyntaxError",
     "evalue": "invalid non-printable character U+00A0 (695291763.py, line 26)",
     "output_type": "error",
     "traceback": [
      "\u001b[1;36m  Cell \u001b[1;32mIn[34], line 26\u001b[1;36m\u001b[0m\n\u001b[1;33m    search_replace(file_path, search_text, replace_text)\u001b[0m\n\u001b[1;37m                                          ^\u001b[0m\n\u001b[1;31mSyntaxError\u001b[0m\u001b[1;31m:\u001b[0m invalid non-printable character U+00A0\n"
     ]
    }
   ],
   "source": [
    "def search_replace(file_path, search_text, replace_text):\n",
    "    try:\n",
    "      \n",
    "        with open(file_path, 'r') as file:        # Open the file for reading\n",
    "            file_content = file.read()\n",
    "\n",
    "      \n",
    "        updated_content = file_content.replace(search_text, replace_text)        # Perform the search and replace\n",
    "\n",
    "    \n",
    "        with open(file_path, 'w') as file:\n",
    "            file.write(updated_content)\n",
    "\n",
    "        print(f\"Search and replace completed in '{file_path}'.\")\n",
    "\n",
    "    except FileNotFoundError:\n",
    "        print(f\"Error: File '{file_path}' not found.\")\n",
    "    except Exception as e:\n",
    "        print(f\"An error occurred: {e}\")\n",
    "\n",
    "\n",
    "file_path = 'Text_Data.txt'  \n",
    "search_text = 'AI'\n",
    "replace_text = 'Artificial intelligence'\n",
    "\n",
    "search_replace(file_path, search_text, replace_text)"
   ]
  },
  {
   "cell_type": "markdown",
   "id": "7c19a3a3",
   "metadata": {},
   "source": [
    "# 6.Write a Python script that concatenates the contents of multiple text files into a single output file. Allow the user to specify the input files and the output file."
   ]
  },
  {
   "cell_type": "code",
   "execution_count": 24,
   "id": "f753c84c",
   "metadata": {},
   "outputs": [],
   "source": [
    "file1 = open('text1.txt', 'r')\n",
    "file2 = open('text2.txt', 'r')\n",
    "\n",
    "# Read the contents of the text files\n",
    "content1 = file1.read()\n",
    "content2 = file2.read()\n",
    "\n",
    "# Close the source text files\n",
    "file1.close()\n",
    "file2.close()\n",
    "\n",
    "# Open the destination file\n",
    "destination_file = open('concatenated.txt', 'w')\n",
    "\n",
    "# Write the concatenated content to the destination file\n",
    "destination_file.write(content1 + content2)\n",
    "# Close the destination file\n",
    "destination_file.close()"
   ]
  },
  {
   "cell_type": "code",
   "execution_count": 25,
   "id": "a1ff441a",
   "metadata": {},
   "outputs": [
    {
     "name": "stdout",
     "output_type": "stream",
     "text": [
      "Hello World!!!!!!Ankit Patel!!!!!!!\n"
     ]
    }
   ],
   "source": [
    "with open('concatenated.txt', 'r') as destination_file:\n",
    "   \n",
    "    line = destination_file.readline()          # Read a single line from the file\n",
    "    while line:\n",
    "        print(line)\n",
    "        line = destination_file.readline()"
   ]
  },
  {
   "cell_type": "markdown",
   "id": "3ad1e0fe",
   "metadata": {},
   "source": [
    "# 7"
   ]
  },
  {
   "cell_type": "code",
   "execution_count": 26,
   "id": "d2539c92",
   "metadata": {},
   "outputs": [
    {
     "name": "stdout",
     "output_type": "stream",
     "text": [
      "Word lengths successfully written to 'output.txt'\n"
     ]
    }
   ],
   "source": [
    "try:\n",
    "    # Open the input and output files\n",
    "    with open('input.txt', 'r') as input_file, open('output.txt', 'w') as output_file:\n",
    "        word_lengths = {}  # Dictionary to store word lengths\n",
    "\n",
    "        # Read and process each word from the input file\n",
    "        for line in input_file:\n",
    "            word = line.strip()  # Remove leading/trailing whitespace\n",
    "            length = len(word)  # Calculate word length\n",
    "            word_lengths[word] = length  # Store in the dictionary\n",
    "\n",
    "        # Write the word length dictionary to the output file\n",
    "        for word, length in word_lengths.items():\n",
    "            output_file.write(f\"{word}: {length}\\n\")\n",
    "\n",
    "    print(\"Word lengths successfully written to 'output.txt'\")\n",
    "\n",
    "except FileNotFoundError:\n",
    "    print(\"Error: Input file 'input.txt' not found.\")\n",
    "except PermissionError:\n",
    "    print(\"Error: Permission denied while accessing files.\")\n",
    "except Exception as e:\n",
    "    print(f\"An error occurred: {e}\")"
   ]
  },
  {
   "cell_type": "code",
   "execution_count": 27,
   "id": "ce841129",
   "metadata": {},
   "outputs": [
    {
     "name": "stdout",
     "output_type": "stream",
     "text": [
      "apple: 5\n",
      "\n",
      "banana: 6\n",
      "\n",
      "cherry: 6\n",
      "\n"
     ]
    }
   ],
   "source": [
    "with open('output.txt', 'r') as destination_file:\n",
    "   \n",
    "    line = destination_file.readline()          # Read a single line from the file\n",
    "    while line:\n",
    "        print(line)\n",
    "        line = destination_file.readline()"
   ]
  },
  {
   "cell_type": "code",
   "execution_count": null,
   "id": "cef5d19d",
   "metadata": {},
   "outputs": [],
   "source": []
  }
 ],
 "metadata": {
  "kernelspec": {
   "display_name": "Python 3 (ipykernel)",
   "language": "python",
   "name": "python3"
  },
  "language_info": {
   "codemirror_mode": {
    "name": "ipython",
    "version": 3
   },
   "file_extension": ".py",
   "mimetype": "text/x-python",
   "name": "python",
   "nbconvert_exporter": "python",
   "pygments_lexer": "ipython3",
   "version": "3.11.4"
  }
 },
 "nbformat": 4,
 "nbformat_minor": 5
}
