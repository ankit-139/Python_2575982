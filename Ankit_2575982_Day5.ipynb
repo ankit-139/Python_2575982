{
 "cells": [
  {
   "cell_type": "markdown",
   "id": "df4b7bc3",
   "metadata": {},
   "source": [
    "# 4"
   ]
  },
  {
   "cell_type": "code",
   "execution_count": 6,
   "id": "3a7acc86",
   "metadata": {},
   "outputs": [],
   "source": [
    "import mysql.connector as sql\n"
   ]
  },
  {
   "cell_type": "code",
   "execution_count": 28,
   "id": "79e72656",
   "metadata": {},
   "outputs": [
    {
     "name": "stdout",
     "output_type": "stream",
     "text": [
      "<mysql.connector.connection_cext.CMySQLConnection object at 0x000001E2AE11C8D0>\n"
     ]
    }
   ],
   "source": [
    "conn= sql.connect(host='127.0.0.1',\n",
    "                   user='root',\n",
    "                   password='Ankit@139',\n",
    "                   database='employee_managment1')\n",
    "print(conn)"
   ]
  },
  {
   "cell_type": "code",
   "execution_count": 29,
   "id": "6cf907bb",
   "metadata": {},
   "outputs": [],
   "source": [
    "curs=conn.cursor()"
   ]
  },
  {
   "cell_type": "code",
   "execution_count": 30,
   "id": "98de65d6",
   "metadata": {},
   "outputs": [
    {
     "data": {
      "text/plain": [
       "<mysql.connector.cursor_cext.CMySQLCursor at 0x1e2adaa5650>"
      ]
     },
     "execution_count": 30,
     "metadata": {},
     "output_type": "execute_result"
    }
   ],
   "source": [
    "curs"
   ]
  },
  {
   "cell_type": "code",
   "execution_count": 31,
   "id": "2bb205c4",
   "metadata": {},
   "outputs": [
    {
     "name": "stdout",
     "output_type": "stream",
     "text": [
      "('books',)\n",
      "('cake',)\n",
      "('company',)\n",
      "('department',)\n",
      "('details',)\n",
      "('employee_managment',)\n",
      "('employee_managment1',)\n",
      "('information_schema',)\n",
      "('mysql',)\n",
      "('performance_schema',)\n",
      "('shirts_db',)\n",
      "('user',)\n"
     ]
    }
   ],
   "source": [
    "curs=conn.cursor()\n",
    "curs.execute(\"show databases\")\n",
    "for i in curs:\n",
    "    print(i)"
   ]
  },
  {
   "cell_type": "code",
   "execution_count": 38,
   "id": "d77e4229",
   "metadata": {},
   "outputs": [],
   "source": [
    "curs.execute(\"create table employees1 (name varchar(20), salary INTEGER, department TEXT , hire_date DATE)\")"
   ]
  },
  {
   "cell_type": "code",
   "execution_count": 39,
   "id": "3b6339b4",
   "metadata": {},
   "outputs": [
    {
     "name": "stdout",
     "output_type": "stream",
     "text": [
      "('employees',)\n",
      "('employees1',)\n"
     ]
    }
   ],
   "source": [
    "curs.execute(\"show tables\")\n",
    "for i in curs:\n",
    "    print(i)"
   ]
  },
  {
   "cell_type": "code",
   "execution_count": 48,
   "id": "f77bfc41",
   "metadata": {},
   "outputs": [
    {
     "name": "stdout",
     "output_type": "stream",
     "text": [
      "4 records inserted\n"
     ]
    }
   ],
   "source": [
    "cus_insert=\"insert into employees1 (name,salary,department,hire_date) values (%s,%s,%s,%s)\"   #records insert\n",
    "cus_val=[('john',5200,'IT','2013-09-6'),\n",
    "        ('alex',5600,'CS','2015-08-14'),\n",
    "        ('aman',4843,'ECE','2013-03-15'),\n",
    "        ('abhi',9877,'ME','2014-05-16')]\n",
    "\n",
    "curs.executemany(cus_insert,cus_val)\n",
    "conn.commit()\n",
    "print(curs.rowcount,'records inserted')\n",
    "\n",
    "\n"
   ]
  },
  {
   "cell_type": "code",
   "execution_count": 50,
   "id": "19bf621d",
   "metadata": {},
   "outputs": [
    {
     "name": "stdout",
     "output_type": "stream",
     "text": [
      "('john', 5200, 'IT', datetime.date(2013, 9, 6))\n",
      "('alex', 5600, 'CS', datetime.date(2015, 8, 14))\n",
      "('aman', 4843, 'ECE', datetime.date(2013, 3, 15))\n",
      "('abhi', 9877, 'ME', datetime.date(2014, 5, 16))\n",
      "('john', 5200, 'IT', datetime.date(2013, 9, 6))\n",
      "('alex', 5600, 'CS', datetime.date(2015, 8, 14))\n",
      "('aman', 4843, 'ECE', datetime.date(2013, 3, 15))\n",
      "('abhi', 9877, 'ME', datetime.date(2014, 5, 16))\n",
      "('john', 5200, 'IT', datetime.date(2013, 9, 6))\n",
      "('alex', 5600, 'CS', datetime.date(2015, 8, 14))\n",
      "('aman', 4843, 'ECE', datetime.date(2013, 3, 15))\n",
      "('abhi', 9877, 'ME', datetime.date(2014, 5, 16))\n",
      "('john', 5200, 'IT', datetime.date(2013, 9, 6))\n",
      "('alex', 5600, 'CS', datetime.date(2015, 8, 14))\n",
      "('aman', 4843, 'ECE', datetime.date(2013, 3, 15))\n",
      "('abhi', 9877, 'ME', datetime.date(2014, 5, 16))\n"
     ]
    }
   ],
   "source": [
    "#display\n",
    "curs.execute(\"select * from employees1\")\n",
    "result=curs.fetchall()\n",
    "for i in result:\n",
    "        print(i)"
   ]
  },
  {
   "cell_type": "code",
   "execution_count": 52,
   "id": "9aa86031",
   "metadata": {},
   "outputs": [
    {
     "name": "stdout",
     "output_type": "stream",
     "text": [
      "('john', 5200, 'IT', datetime.date(2013, 9, 6))\n",
      "('john', 5200, 'IT', datetime.date(2013, 9, 6))\n",
      "('john', 5200, 'IT', datetime.date(2013, 9, 6))\n",
      "('john', 5200, 'IT', datetime.date(2013, 9, 6))\n"
     ]
    }
   ],
   "source": [
    "sql=\"select * from employees1 where department='IT'\"\n",
    "curs.execute(sql)\n",
    "for i in curs:\n",
    "    print (i)"
   ]
  },
  {
   "cell_type": "code",
   "execution_count": 56,
   "id": "868f622e",
   "metadata": {},
   "outputs": [],
   "source": [
    "sql=\"UPDATE employees1 SET salary = 20000 WHERE name = 'john'\"\n",
    "curs.execute(sql)\n",
    "for i in curs:\n",
    "    print (i)"
   ]
  },
  {
   "cell_type": "code",
   "execution_count": 57,
   "id": "0a755bcf",
   "metadata": {},
   "outputs": [
    {
     "name": "stdout",
     "output_type": "stream",
     "text": [
      "('john', 20000, 'IT', datetime.date(2013, 9, 6))\n",
      "('john', 20000, 'IT', datetime.date(2013, 9, 6))\n",
      "('john', 20000, 'IT', datetime.date(2013, 9, 6))\n",
      "('john', 20000, 'IT', datetime.date(2013, 9, 6))\n"
     ]
    }
   ],
   "source": [
    "sql=\"select * from employees1 where department='IT'\"\n",
    "curs.execute(sql)\n",
    "for i in curs:\n",
    "    print (i)"
   ]
  },
  {
   "cell_type": "markdown",
   "id": "758fabac",
   "metadata": {},
   "source": [
    "# 3"
   ]
  },
  {
   "cell_type": "code",
   "execution_count": 58,
   "id": "fbc95978",
   "metadata": {},
   "outputs": [],
   "source": [
    "import mysql.connector as sql"
   ]
  },
  {
   "cell_type": "code",
   "execution_count": 59,
   "id": "7a9241a8",
   "metadata": {},
   "outputs": [
    {
     "name": "stdout",
     "output_type": "stream",
     "text": [
      "<mysql.connector.connection_cext.CMySQLConnection object at 0x000001E2AE19E990>\n"
     ]
    }
   ],
   "source": [
    "conn= sql.connect(host='127.0.0.1',\n",
    "                   user='root',\n",
    "                   password='Ankit@139',\n",
    "                   database='demo')\n",
    "print(conn)"
   ]
  },
  {
   "cell_type": "code",
   "execution_count": 60,
   "id": "760ad9bc",
   "metadata": {},
   "outputs": [],
   "source": [
    "curs=conn.cursor()"
   ]
  },
  {
   "cell_type": "code",
   "execution_count": 61,
   "id": "45aa2948",
   "metadata": {},
   "outputs": [
    {
     "data": {
      "text/plain": [
       "<mysql.connector.cursor_cext.CMySQLCursor at 0x1e2adb0df50>"
      ]
     },
     "execution_count": 61,
     "metadata": {},
     "output_type": "execute_result"
    }
   ],
   "source": [
    "curs"
   ]
  },
  {
   "cell_type": "code",
   "execution_count": 62,
   "id": "dc83ce54",
   "metadata": {},
   "outputs": [],
   "source": [
    "curs.execute(\"create table test_demo (id int,name varchar(20), quantity int)\")"
   ]
  },
  {
   "cell_type": "code",
   "execution_count": 63,
   "id": "a6da11d0",
   "metadata": {},
   "outputs": [
    {
     "name": "stdout",
     "output_type": "stream",
     "text": [
      "('test_demo',)\n"
     ]
    }
   ],
   "source": [
    "curs.execute(\"show tables\")\n",
    "for i in curs:\n",
    "    print(i)"
   ]
  },
  {
   "cell_type": "code",
   "execution_count": 65,
   "id": "9d1e83c9",
   "metadata": {},
   "outputs": [
    {
     "name": "stdout",
     "output_type": "stream",
     "text": [
      "5 records inserted\n"
     ]
    }
   ],
   "source": [
    "cus_insert=\"insert into test_demo (id,name,quantity) values (%s,%s,%s)\"   #records insert\n",
    "cus_val=[(101,'john',1000),\n",
    "        (102,'alex',2000),\n",
    "        (103,'aman',3000),\n",
    "        (104,'abhi',4000),\n",
    "        (105,'ankit',5000)]\n",
    "\n",
    "curs.executemany(cus_insert,cus_val)\n",
    "conn.commit()\n",
    "print(curs.rowcount,'records inserted')\n"
   ]
  },
  {
   "cell_type": "code",
   "execution_count": 66,
   "id": "7e477842",
   "metadata": {},
   "outputs": [
    {
     "name": "stdout",
     "output_type": "stream",
     "text": [
      "(101, 'john', 1000)\n",
      "(102, 'alex', 2000)\n",
      "(103, 'aman', 3000)\n",
      "(104, 'abhi', 4000)\n",
      "(105, 'ankit', 5000)\n"
     ]
    }
   ],
   "source": [
    "curs.execute(\"select * from test_demo\")\n",
    "result=curs.fetchall()\n",
    "for i in result:\n",
    "        print(i)"
   ]
  },
  {
   "cell_type": "code",
   "execution_count": 70,
   "id": "3163d224",
   "metadata": {},
   "outputs": [
    {
     "name": "stdout",
     "output_type": "stream",
     "text": [
      "Total quantity before update: 15000\n",
      "All records updated successfully.\n"
     ]
    }
   ],
   "source": [
    "import mysql.connector\n",
    "\n",
    "# Database connection configuration\n",
    "db_config = {\n",
    "    \"host\": \"127.0.0.1\",\n",
    "    \"user\": \"root\",\n",
    "    \"password\": \"Ankit@139\",\n",
    "    \"database\": \"demo\",\n",
    "}\n",
    "\n",
    "try:\n",
    "    # Connect to the MySQL database\n",
    "    conn = mysql.connector.connect(**db_config)\n",
    "    cursor = conn.cursor()\n",
    "\n",
    "    # Retrieve all records from your table\n",
    "    cursor.execute(\"SELECT * FROM test_demo\")\n",
    "    records = cursor.fetchall()\n",
    "\n",
    "    # Calculate the total quantity of all records retrieved\n",
    "    total_quantity = sum(record[2] for record in records)\n",
    "\n",
    "    # Update the quantity column of each record by doubling its value\n",
    "    for record in records:\n",
    "        new_quantity = record[2] * 2\n",
    "        cursor.execute(\"UPDATE test_demo SET quantity = %s WHERE id = %s\", (new_quantity, record[0]))\n",
    "\n",
    "   \n",
    "    conn.commit()           # Commit the changes to the database\n",
    "\n",
    "  \n",
    "    conn.close()            # Close the database connection\n",
    "\n",
    "    # Print the total quantity before and after the update\n",
    "    print(f\"Total quantity before update: {total_quantity}\")\n",
    "    print(\"All records updated successfully.\")\n",
    "\n",
    "except mysql.connector.Error as e:\n",
    "    # Handle any potential errors during the database connection and data manipulation\n",
    "    print(f\"Error: {e}\")\n",
    "finally:\n",
    "    if conn.is_connected():\n",
    "        conn.close()"
   ]
  },
  {
   "cell_type": "markdown",
   "id": "c7da3f99",
   "metadata": {},
   "source": [
    "# 2. Customer Order Processing"
   ]
  },
  {
   "cell_type": "code",
   "execution_count": 71,
   "id": "b962e682",
   "metadata": {},
   "outputs": [],
   "source": [
    "import mysql.connector as sql"
   ]
  },
  {
   "cell_type": "code",
   "execution_count": 72,
   "id": "a9faa3fd",
   "metadata": {},
   "outputs": [
    {
     "name": "stdout",
     "output_type": "stream",
     "text": [
      "<mysql.connector.connection_cext.CMySQLConnection object at 0x000001E2AE0B86D0>\n"
     ]
    }
   ],
   "source": [
    "conn= sql.connect(host='127.0.0.1',\n",
    "                   user='root',\n",
    "                   password='Ankit@139',\n",
    "                   database='customer')\n",
    "print(conn)"
   ]
  },
  {
   "cell_type": "code",
   "execution_count": 73,
   "id": "db02a296",
   "metadata": {},
   "outputs": [
    {
     "data": {
      "text/plain": [
       "<mysql.connector.cursor_cext.CMySQLCursor at 0x1e2ae0f2e50>"
      ]
     },
     "execution_count": 73,
     "metadata": {},
     "output_type": "execute_result"
    }
   ],
   "source": [
    "curs=conn.cursor()\n",
    "curs"
   ]
  },
  {
   "cell_type": "code",
   "execution_count": 74,
   "id": "a336e88a",
   "metadata": {},
   "outputs": [],
   "source": [
    "curs.execute(\"create table customer_order (customer_id INT PRIMARY KEY, name VARCHAR(50), email VARCHAR(255))\")"
   ]
  },
  {
   "cell_type": "code",
   "execution_count": 75,
   "id": "41cd1934",
   "metadata": {},
   "outputs": [],
   "source": [
    "curs.execute(\"create table products (product_id INT PRIMARY KEY, product_name VARCHAR(255) NOT NULL,price DECIMAL(10, 2) NOT NULL, quantity INT)\")"
   ]
  },
  {
   "cell_type": "code",
   "execution_count": 77,
   "id": "f6d5f92c",
   "metadata": {},
   "outputs": [],
   "source": [
    "curs.execute(\"create table order_details (order_id INT PRIMARY KEY, customer_id INT, order_date DATE)\")"
   ]
  },
  {
   "cell_type": "code",
   "execution_count": 78,
   "id": "d90ba986",
   "metadata": {},
   "outputs": [
    {
     "name": "stdout",
     "output_type": "stream",
     "text": [
      "('customer_order',)\n",
      "('order_details',)\n",
      "('products',)\n"
     ]
    }
   ],
   "source": [
    "curs.execute(\"show tables\")\n",
    "for i in curs:\n",
    "    print(i)"
   ]
  },
  {
   "cell_type": "code",
   "execution_count": 79,
   "id": "d59fe644",
   "metadata": {},
   "outputs": [
    {
     "name": "stdout",
     "output_type": "stream",
     "text": [
      "5 records inserted\n"
     ]
    }
   ],
   "source": [
    "cus_insert=\"insert into customer_order (customer_id,name,email) values (%s,%s,%s)\"   #records insert\n",
    "cus_val=[(101,'john','john@gmail.com'),\n",
    "        (102,'alex','alex@gmail.com'),\n",
    "        (103,'aman','aman@gmail.com'),\n",
    "        (104,'abhi','abhi@gmail.com'),\n",
    "        (105,'ankit','ankit@gmail.com')]\n",
    "\n",
    "curs.executemany(cus_insert,cus_val)\n",
    "conn.commit()\n",
    "print(curs.rowcount,'records inserted')\n"
   ]
  },
  {
   "cell_type": "code",
   "execution_count": 80,
   "id": "361c1872",
   "metadata": {},
   "outputs": [
    {
     "name": "stdout",
     "output_type": "stream",
     "text": [
      "(101, 'john', 'john@gmail.com')\n",
      "(102, 'alex', 'alex@gmail.com')\n",
      "(103, 'aman', 'aman@gmail.com')\n",
      "(104, 'abhi', 'abhi@gmail.com')\n",
      "(105, 'ankit', 'ankit@gmail.com')\n"
     ]
    }
   ],
   "source": [
    "curs.execute(\"select * from customer_order\")\n",
    "result=curs.fetchall()\n",
    "for i in result:\n",
    "        print(i)"
   ]
  },
  {
   "cell_type": "code",
   "execution_count": 81,
   "id": "a41e5c25",
   "metadata": {},
   "outputs": [
    {
     "name": "stdout",
     "output_type": "stream",
     "text": [
      "5 records inserted\n"
     ]
    }
   ],
   "source": [
    "cus_insert=\"insert into products (product_id,product_name,price,quantity) values (%s,%s,%s,%s)\"   #records insert\n",
    "cus_val=[(1001,'books',1000.3,100),\n",
    "        (1002,'mobile',2030.34,200),\n",
    "        (1003,'TV',3272.844,300),\n",
    "        (1004,'Laptop',4728.833,928),\n",
    "        (1005,'AC',2738.373,938)]\n",
    "\n",
    "curs.executemany(cus_insert,cus_val)\n",
    "conn.commit()\n",
    "print(curs.rowcount,'records inserted')\n"
   ]
  },
  {
   "cell_type": "code",
   "execution_count": 82,
   "id": "bea6312f",
   "metadata": {},
   "outputs": [
    {
     "name": "stdout",
     "output_type": "stream",
     "text": [
      "(1001, 'books', Decimal('1000.30'), 100)\n",
      "(1002, 'mobile', Decimal('2030.34'), 200)\n",
      "(1003, 'TV', Decimal('3272.84'), 300)\n",
      "(1004, 'Laptop', Decimal('4728.83'), 928)\n",
      "(1005, 'AC', Decimal('2738.37'), 938)\n"
     ]
    }
   ],
   "source": [
    "curs.execute(\"select * from products\")\n",
    "result=curs.fetchall()\n",
    "for i in result:\n",
    "        print(i)"
   ]
  },
  {
   "cell_type": "code",
   "execution_count": 87,
   "id": "887f1c5d",
   "metadata": {},
   "outputs": [
    {
     "name": "stdout",
     "output_type": "stream",
     "text": [
      "5 records inserted\n"
     ]
    }
   ],
   "source": [
    "cus_insert=\"insert into order_details (order_id,customer_id,order_date) values (%s,%s,%s)\"   #records insert\n",
    "cus_val=[(101,1234,'2019-09-22'),\n",
    "        (102,3456,'2020-10-23'),\n",
    "        (103,7545,'2021-02-28'),\n",
    "        (104,5644,'2022-01-21'),\n",
    "        (105,5443,'2023-03-23')]\n",
    "\n",
    "curs.executemany(cus_insert,cus_val)\n",
    "conn.commit()\n",
    "print(curs.rowcount,'records inserted')"
   ]
  },
  {
   "cell_type": "code",
   "execution_count": 88,
   "id": "cb952e32",
   "metadata": {},
   "outputs": [
    {
     "name": "stdout",
     "output_type": "stream",
     "text": [
      "(101, 1234, datetime.date(2019, 9, 22))\n",
      "(102, 3456, datetime.date(2020, 10, 23))\n",
      "(103, 7545, datetime.date(2021, 2, 28))\n",
      "(104, 5644, datetime.date(2022, 1, 21))\n",
      "(105, 5443, datetime.date(2023, 3, 23))\n"
     ]
    }
   ],
   "source": [
    "curs.execute(\"select * from order_details\")\n",
    "result=curs.fetchall()\n",
    "for i in result:\n",
    "        print(i)"
   ]
  },
  {
   "cell_type": "code",
   "execution_count": 91,
   "id": "321f42b7",
   "metadata": {},
   "outputs": [
    {
     "name": "stdout",
     "output_type": "stream",
     "text": [
      "Product not available or insufficient quantity.\n"
     ]
    }
   ],
   "source": [
    "import mysql.connector\n",
    "\n",
    "# Connect to the MySQL database\n",
    "conn = mysql.connector.connect(\n",
    "    host=\"127.0.0.1\",\n",
    "    user=\"root\",\n",
    "    password=\"Ankit@139\",\n",
    "    database=\"customer\"\n",
    ")\n",
    "cursor = conn.cursor()\n",
    "\n",
    "\n",
    "def place_order(customer_id, product_id, quantity):   # Function to place an order    \n",
    "    try:\n",
    "        \n",
    "        cursor.execute(\"SELECT quantity, price FROM products WHERE product_id = %s\", (product_id,))    # Check if the product is available\n",
    "        result = cursor.fetchone()\n",
    "\n",
    "        if result and result[0] >= quantity:\n",
    "            subtotal = result[1] * quantity\n",
    "\n",
    "            # Insert order details into the database\n",
    "            cursor.execute(\"INSERT INTO order_details (order_id, product_id, quantity, subtotal) VALUES (%s, %s, %s, %s)\",\n",
    "                           (order_id, product_id, quantity, subtotal))\n",
    "\n",
    "            # Update product quantity in the database\n",
    "            cursor.execute(\"UPDATE products SET quantity = quantity - %s WHERE product_id = %s\",\n",
    "                           (quantity, product_id))\n",
    "\n",
    "            conn.commit()\n",
    "            print(\"Order placed successfully.\")\n",
    "        else:\n",
    "            print(\"Product not available or insufficient quantity.\")\n",
    "    except mysql.connector.Error as e:\n",
    "        print(f\"Error: {e}\")\n",
    "\n",
    "\n",
    "place_order(1, 11, 20)\n",
    "\n",
    "# Close the database connection\n",
    "conn.close()"
   ]
  },
  {
   "cell_type": "markdown",
   "id": "b8b711b0",
   "metadata": {},
   "source": [
    "# 1"
   ]
  },
  {
   "cell_type": "code",
   "execution_count": 94,
   "id": "6e51fe0f",
   "metadata": {},
   "outputs": [],
   "source": [
    "import mysql.connector as sql"
   ]
  },
  {
   "cell_type": "code",
   "execution_count": 95,
   "id": "3e2bf48f",
   "metadata": {},
   "outputs": [
    {
     "name": "stdout",
     "output_type": "stream",
     "text": [
      "<mysql.connector.connection_cext.CMySQLConnection object at 0x000001E2AD065CD0>\n"
     ]
    }
   ],
   "source": [
    "conn= sql.connect(host='127.0.0.1',\n",
    "                   user='root',\n",
    "                   password='Ankit@139',\n",
    "                   database='inventory')\n",
    "print(conn)"
   ]
  },
  {
   "cell_type": "code",
   "execution_count": 96,
   "id": "bbb881a3",
   "metadata": {},
   "outputs": [
    {
     "data": {
      "text/plain": [
       "<mysql.connector.cursor_cext.CMySQLCursor at 0x1e2ae11c890>"
      ]
     },
     "execution_count": 96,
     "metadata": {},
     "output_type": "execute_result"
    }
   ],
   "source": [
    "curs=conn.cursor()\n",
    "curs"
   ]
  },
  {
   "cell_type": "code",
   "execution_count": 97,
   "id": "56f2cf5d",
   "metadata": {},
   "outputs": [],
   "source": [
    "curs.execute(\"create table purchases (purchase_id INT PRIMARY KEY, product_name VARCHAR(50),  quantity INT)\")"
   ]
  },
  {
   "cell_type": "code",
   "execution_count": 98,
   "id": "017e18ea",
   "metadata": {},
   "outputs": [],
   "source": [
    "curs.execute(\"create table sales (sales_id INT PRIMARY KEY, sales_date DATE,  quantity INT)\")"
   ]
  },
  {
   "cell_type": "code",
   "execution_count": 99,
   "id": "2bebbdad",
   "metadata": {},
   "outputs": [],
   "source": [
    "curs.execute(\"create table inventory (inventory_id INT, inventory_name VARCHAR(50),  quantity INT)\")"
   ]
  },
  {
   "cell_type": "code",
   "execution_count": 100,
   "id": "927d90d1",
   "metadata": {},
   "outputs": [
    {
     "name": "stdout",
     "output_type": "stream",
     "text": [
      "('inventory',)\n",
      "('purchases',)\n",
      "('sales',)\n"
     ]
    }
   ],
   "source": [
    "curs.execute(\"show tables\")\n",
    "for i in curs:\n",
    "    print(i)"
   ]
  },
  {
   "cell_type": "code",
   "execution_count": 101,
   "id": "10edf614",
   "metadata": {},
   "outputs": [
    {
     "name": "stdout",
     "output_type": "stream",
     "text": [
      "5 records inserted\n"
     ]
    }
   ],
   "source": [
    "cus_insert=\"insert into purchases (purchase_id,product_name,quantity) values (%s,%s,%s)\"   #records insert\n",
    "cus_val=[(1001,'books',500),\n",
    "        (1002,'mobile',600),\n",
    "        (1003,'TV',700),\n",
    "        (1004,'Laptop',800),\n",
    "        (1005,'AC',900)]\n",
    "\n",
    "curs.executemany(cus_insert,cus_val)\n",
    "conn.commit()\n",
    "print(curs.rowcount,'records inserted')"
   ]
  },
  {
   "cell_type": "code",
   "execution_count": 103,
   "id": "9376f6a9",
   "metadata": {},
   "outputs": [
    {
     "name": "stdout",
     "output_type": "stream",
     "text": [
      "(1001, 'books', 500)\n",
      "(1002, 'mobile', 600)\n",
      "(1003, 'TV', 700)\n",
      "(1004, 'Laptop', 800)\n",
      "(1005, 'AC', 900)\n"
     ]
    }
   ],
   "source": [
    "curs.execute(\"select * from purchases\")\n",
    "result=curs.fetchall()\n",
    "for i in result:\n",
    "        print(i)"
   ]
  },
  {
   "cell_type": "code",
   "execution_count": 104,
   "id": "0c6ad9cc",
   "metadata": {},
   "outputs": [
    {
     "name": "stdout",
     "output_type": "stream",
     "text": [
      "5 records inserted\n"
     ]
    }
   ],
   "source": [
    "cus_insert=\"insert into sales (sales_id,sales_date,quantity) values (%s,%s,%s)\"   #records insert\n",
    "cus_val=[(10,'2011-01-02',5000),\n",
    "        (12,'2012-04-03',6000),\n",
    "        (13,'2013-08-09',7000),\n",
    "        (14,'2014-03-03',8000),\n",
    "        (15,'2015-05-23',9000)]\n",
    "\n",
    "curs.executemany(cus_insert,cus_val)\n",
    "conn.commit()\n",
    "print(curs.rowcount,'records inserted')"
   ]
  },
  {
   "cell_type": "code",
   "execution_count": 105,
   "id": "d3f07193",
   "metadata": {},
   "outputs": [
    {
     "name": "stdout",
     "output_type": "stream",
     "text": [
      "(10, datetime.date(2011, 1, 2), 5000)\n",
      "(12, datetime.date(2012, 4, 3), 6000)\n",
      "(13, datetime.date(2013, 8, 9), 7000)\n",
      "(14, datetime.date(2014, 3, 3), 8000)\n",
      "(15, datetime.date(2015, 5, 23), 9000)\n"
     ]
    }
   ],
   "source": [
    "curs.execute(\"select * from sales\")\n",
    "result=curs.fetchall()\n",
    "for i in result:\n",
    "        print(i)"
   ]
  },
  {
   "cell_type": "code",
   "execution_count": 106,
   "id": "c6151781",
   "metadata": {},
   "outputs": [
    {
     "name": "stdout",
     "output_type": "stream",
     "text": [
      "5 records inserted\n"
     ]
    }
   ],
   "source": [
    "cus_insert=\"insert into inventory (inventory_id,inventory_name,quantity) values (%s,%s,%s)\"   #records insert\n",
    "cus_val=[(105,'acc',50001),\n",
    "        (106,'bcs',60001),\n",
    "        (107,'hds',70001),\n",
    "        (108,'dfs',80001),\n",
    "        (109,'rew',90001)]\n",
    "\n",
    "curs.executemany(cus_insert,cus_val)\n",
    "conn.commit()\n",
    "print(curs.rowcount,'records inserted')"
   ]
  },
  {
   "cell_type": "code",
   "execution_count": 107,
   "id": "65ef7e9e",
   "metadata": {},
   "outputs": [
    {
     "name": "stdout",
     "output_type": "stream",
     "text": [
      "(105, 'acc', 50001)\n",
      "(106, 'bcs', 60001)\n",
      "(107, 'hds', 70001)\n",
      "(108, 'dfs', 80001)\n",
      "(109, 'rew', 90001)\n"
     ]
    }
   ],
   "source": [
    "curs.execute(\"select * from inventory\")\n",
    "result=curs.fetchall()\n",
    "for i in result:\n",
    "        print(i)"
   ]
  },
  {
   "cell_type": "code",
   "execution_count": 110,
   "id": "2a4b1bc6",
   "metadata": {},
   "outputs": [
    {
     "name": "stdout",
     "output_type": "stream",
     "text": [
      "(105, 'acc', 50001)\n",
      "(106, 'bcs', 60001)\n"
     ]
    }
   ],
   "source": [
    "sql=\"select * from inventory where quantity<=60001\"\n",
    "curs.execute(sql)\n",
    "for i in curs:\n",
    "    print (i)"
   ]
  },
  {
   "cell_type": "markdown",
   "id": "079a585d",
   "metadata": {},
   "source": [
    "# Modules and Virtual Environments.\n",
    "\n",
    "# 2. virtual environment"
   ]
  },
  {
   "cell_type": "code",
   "execution_count": null,
   "id": "80ed59ad",
   "metadata": {},
   "outputs": [],
   "source": [
    "# Open Command Prompt.\n",
    "#     > pip\n",
    "#     >pip install virtualenv             #creating a virtual environment\n",
    "\n",
    "#     >virtualenv ank                       #virtual environment in ank folder\n",
    "\n",
    "#     > .ank\\Scripts\\activate  \n",
    "\n",
    "#     >pip install sklearn                   #installing sklearn\n",
    "\n",
    "#     >python\n",
    "\n",
    "#     >import sklearn                        #import sklearn in python\n",
    "\n",
    "#     >pip install numpy                       #installing numpy\n",
    "\n",
    "#     >pip uninstall sklearn\n",
    "\n",
    "#     >pip freeze > requirement.txt       #keeping the versions in the requirement.txt file\n"
   ]
  }
 ],
 "metadata": {
  "kernelspec": {
   "display_name": "Python 3 (ipykernel)",
   "language": "python",
   "name": "python3"
  },
  "language_info": {
   "codemirror_mode": {
    "name": "ipython",
    "version": 3
   },
   "file_extension": ".py",
   "mimetype": "text/x-python",
   "name": "python",
   "nbconvert_exporter": "python",
   "pygments_lexer": "ipython3",
   "version": "3.11.4"
  }
 },
 "nbformat": 4,
 "nbformat_minor": 5
}
