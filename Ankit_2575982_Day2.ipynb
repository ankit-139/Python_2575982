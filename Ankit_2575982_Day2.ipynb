{
 "cells": [
  {
   "cell_type": "markdown",
   "id": "f95d5f5e",
   "metadata": {},
   "source": [
    "# 1. Write a python function to list even and odd numbers in a list."
   ]
  },
  {
   "cell_type": "code",
   "execution_count": 69,
   "id": "46edbd6e",
   "metadata": {},
   "outputs": [
    {
     "name": "stdout",
     "output_type": "stream",
     "text": [
      "Even numbers: [2, 4, 6, 8]\n",
      "Odd numbers: [1, 3, 5, 7, 9]\n"
     ]
    }
   ],
   "source": [
    "def even_odd(numbers):\n",
    "    even_numbers = []\n",
    "    odd_numbers = []\n",
    "\n",
    "    for num in range(numbers):\n",
    "        if num % 2 == 0:\n",
    "            even_numbers.append(num)\n",
    "        else:\n",
    "            odd_numbers.append(num)\n",
    "            \n",
    "print(\"Even numbers:\", even)\n",
    "print(\"Odd numbers:\", odd)\n",
    "    \n",
    "even_odd(10)"
   ]
  },
  {
   "cell_type": "markdown",
   "id": "2067150b",
   "metadata": {},
   "source": [
    "# 2.Write and run a python program that ask the user to enter 8 integers(one at a time) and then prints out how many of those integer  were even number. For example if the user entered 19,6,9,20,13,7,6 and  1, then your program should print out 3 since 3 of those numbers were even.\n"
   ]
  },
  {
   "cell_type": "code",
   "execution_count": 91,
   "id": "33031665",
   "metadata": {},
   "outputs": [
    {
     "name": "stdout",
     "output_type": "stream",
     "text": [
      "Enter an integer: 1\n",
      "Enter an integer: 2\n",
      "Enter an integer: 3\n",
      "Enter an integer: 4\n",
      "Enter an integer: 5\n",
      "Enter an integer: 6\n",
      "Enter an integer: 7\n",
      "Enter an integer: 8\n",
      "out 8 since 4 of those numbers were even.\n"
     ]
    }
   ],
   "source": [
    "def count_even():\n",
    "    even_no = 0\n",
    "     \n",
    "    for i in range(8):  # user input of 8 integers. \n",
    "        no = int(input(\"Enter an integer: \"))\n",
    "        if no % 2 == 0:\n",
    "            even_no += 1\n",
    "    return even_no\n",
    "\n",
    "\n",
    "print(f\"out 8 since {count_even()} of those numbers were even.\") # Print the count of even numbers"
   ]
  },
  {
   "cell_type": "markdown",
   "id": "b69a45df",
   "metadata": {},
   "source": [
    "# 3. Write a python program where you take any positive integer n, if n is even, divide it by 2 to get n/2. If n is odd, multiply it by 3 and add 1 to obtain 3n+1. Repeat the process until you reach 1."
   ]
  },
  {
   "cell_type": "code",
   "execution_count": 83,
   "id": "b7b90d97",
   "metadata": {},
   "outputs": [
    {
     "name": "stdout",
     "output_type": "stream",
     "text": [
      "[10, 5.0, 16.0, 8.0, 4.0, 2.0, 1.0]\n",
      "[11, 34, 17.0, 52.0, 26.0, 13.0, 40.0, 20.0, 10.0, 5.0, 16.0, 8.0, 4.0, 2.0, 1.0]\n"
     ]
    }
   ],
   "source": [
    "def sequence(x):\n",
    "    seq = [x]\n",
    "    if x < 1:\n",
    "       return []\n",
    "    while x > 1:\n",
    "       if x % 2 == 0:\n",
    "         x = x / 2\n",
    "       else:\n",
    "         x = 3 * x + 1 \n",
    "    # Added line\n",
    "       seq.append(x)    \n",
    "    return seq\n",
    "\n",
    "print(sequence(10))\n",
    "\n",
    "print(sequence(11))\n"
   ]
  },
  {
   "cell_type": "markdown",
   "id": "89f6d73b",
   "metadata": {},
   "source": [
    "# 4.Write a python program to compute the sum of all the multiples of 3 or 5 below 500."
   ]
  },
  {
   "cell_type": "code",
   "execution_count": 20,
   "id": "c18e4ca7",
   "metadata": {},
   "outputs": [
    {
     "name": "stdout",
     "output_type": "stream",
     "text": [
      "Sum of multiples are : 57918\n"
     ]
    }
   ],
   "source": [
    "def multiples():\n",
    "    \n",
    "    sum_multiples = 0\n",
    "\n",
    "    for num in range(1, 500):\n",
    "        \n",
    "        if num % 3 == 0 or num % 5 == 0: # Check if the number is a multiple of 3 or 5\n",
    "            sum_multiples += num\n",
    "\n",
    "    return sum_multiples\n",
    "\n",
    "result = multiples()\n",
    "print(\"Sum of multiples are :\", result)"
   ]
  },
  {
   "cell_type": "markdown",
   "id": "a2873457",
   "metadata": {},
   "source": [
    "# 5. To write a python program to find first 'n' prime numbers from a list of given numbers."
   ]
  },
  {
   "cell_type": "code",
   "execution_count": 78,
   "id": "7d77fc4b",
   "metadata": {},
   "outputs": [
    {
     "name": "stdout",
     "output_type": "stream",
     "text": [
      "2 3 5 7 11 13 17 19 23 29 31 37 41 43 47 53 59 61 67 71 73 79 83 89 97 "
     ]
    }
   ],
   "source": [
    "def isPrime(n):\n",
    "  \n",
    "  if(n==1 or n==0):                   #since 0 and 1 is not prime return false.\n",
    "    return False\n",
    "   \n",
    "  #Run a loop from 2 to n-1\n",
    "  for i in range(2,n):\n",
    "    if(n%i==0):                       #if the number is divisible by i, then n is not a prime number.\n",
    "      return False\n",
    "   \n",
    "  #otherwise, n is prime number.\n",
    "  return True\n",
    " \n",
    "N = 100;\n",
    "\n",
    "for i in range(1,N+1):                  #check for every number from 1 to N\n",
    "  #check if current number is prime\n",
    "  if(isPrime(i)):\n",
    "    print(i,end=\" \")"
   ]
  },
  {
   "cell_type": "markdown",
   "id": "30e38f18",
   "metadata": {},
   "source": [
    "# 6.To write a python program to compute matrix multiplication"
   ]
  },
  {
   "cell_type": "code",
   "execution_count": 33,
   "id": "6df67353",
   "metadata": {},
   "outputs": [
    {
     "name": "stdout",
     "output_type": "stream",
     "text": [
      "[114, 160, 60, 27]\n",
      "[74, 97, 73, 14]\n",
      "[119, 157, 112, 23]\n"
     ]
    }
   ],
   "source": [
    "X = [[12,7,3],\n",
    "    [4 ,5,6],\n",
    "    [7 ,8,9]]\n",
    "\n",
    "Y = [[5,8,1,2],\n",
    "    [6,7,3,0],\n",
    "    [4,5,9,1]]\n",
    "\n",
    "result = [[0,0,0,0],\n",
    "         [0,0,0,0],\n",
    "         [0,0,0,0]]\n",
    "\n",
    "\n",
    "for i in range(len(X)): # iterate through rows of X\n",
    "  \n",
    "   for j in range(len(Y[0])):  # iterate through columns of Y\n",
    "    \n",
    "       for k in range(len(Y)):    # iterate through rows of Y\n",
    "           result[i][j] += X[i][k] * Y[k][j]\n",
    "\n",
    "for r in result:\n",
    "   print(r)"
   ]
  },
  {
   "cell_type": "markdown",
   "id": "965d028c",
   "metadata": {},
   "source": [
    "# 7. Python function to count the number of vowels in string."
   ]
  },
  {
   "cell_type": "code",
   "execution_count": 24,
   "id": "3182589a",
   "metadata": {},
   "outputs": [
    {
     "name": "stdout",
     "output_type": "stream",
     "text": [
      "No. of vowels : 4\n"
     ]
    }
   ],
   "source": [
    "def vowel_count(str):\n",
    "    \n",
    "    vowels = \"aeiouAEIOU\" # Creating a list of vowels\n",
    "     \n",
    "   \n",
    "    count = len([char for char in str if char in vowels])  # Using list comprehension to count the number of vowels in the string\n",
    "     \n",
    "    print(\"No. of vowels :\", count)\n",
    " \n",
    "\n",
    "str = \"Ankit Patel\"\n",
    "\n",
    "vowel_count(str)"
   ]
  },
  {
   "cell_type": "markdown",
   "id": "639e01c1",
   "metadata": {},
   "source": [
    "# 8.Write a python function for finding factorial for the given number using a recursive function."
   ]
  },
  {
   "cell_type": "code",
   "execution_count": 36,
   "id": "0b90b53f",
   "metadata": {},
   "outputs": [
    {
     "name": "stdout",
     "output_type": "stream",
     "text": [
      "number :  6\n",
      "Factorial :  720\n"
     ]
    }
   ],
   "source": [
    "def factorial(n):\n",
    "     \n",
    "   \n",
    "    if (n==1 or n==0):  # Checking the number if 1 or 0 then return 1 other wise return factorial\n",
    "         \n",
    "        return 1\n",
    "     \n",
    "    else:\n",
    "         \n",
    "        return (n * factorial(n - 1))\n",
    " \n",
    "num = 6;\n",
    "print(\"number : \",num)\n",
    "print(\"Factorial : \",factorial(num))"
   ]
  },
  {
   "cell_type": "markdown",
   "id": "55111cd3",
   "metadata": {},
   "source": [
    "# 9. Write a python function for generating fibonacci series using the function."
   ]
  },
  {
   "cell_type": "code",
   "execution_count": 39,
   "id": "ee8a1306",
   "metadata": {},
   "outputs": [
    {
     "name": "stdout",
     "output_type": "stream",
     "text": [
      "0\n",
      "1\n",
      "1\n",
      "2\n",
      "3\n",
      "5\n",
      "8\n",
      "13\n",
      "21\n",
      "34\n"
     ]
    }
   ],
   "source": [
    "def fib(n):\n",
    "    a = 0\n",
    "    b = 1\n",
    "    if n == 1:\n",
    "        print(a)\n",
    "    else:\n",
    "        print(a)\n",
    "        print(b)\n",
    "        for i in range(2,n):\n",
    "            c = a + b\n",
    "            a = b\n",
    "            b = c\n",
    "            print(c)\n",
    "fib(10)"
   ]
  },
  {
   "cell_type": "markdown",
   "id": "97d8973b",
   "metadata": {},
   "source": [
    "# 10.Python program to display the given integer in reverse order using the function without an in-built function."
   ]
  },
  {
   "cell_type": "code",
   "execution_count": 43,
   "id": "9ebb4838",
   "metadata": {},
   "outputs": [
    {
     "name": "stdout",
     "output_type": "stream",
     "text": [
      "The reverse number is = 321\n"
     ]
    }
   ],
   "source": [
    "def findReverse(n):  \n",
    "    \n",
    "   reverse = 0\n",
    "   reminder = 0\n",
    "   while(n != 0):\n",
    "      remainder = n % 10\n",
    "      reverse = reverse * 10 + remainder\n",
    "      n = int(n / 10)\n",
    "   return reverse\n",
    "\n",
    "num = 123\n",
    "reverse = findReverse(num) # calling function\n",
    "print('The reverse number is =', reverse)"
   ]
  },
  {
   "cell_type": "markdown",
   "id": "96350162",
   "metadata": {},
   "source": [
    "# 11.Write a python function to display all the integers within the range 200-300 whose sum of digits is an even number."
   ]
  },
  {
   "cell_type": "code",
   "execution_count": 59,
   "id": "b9d804e2",
   "metadata": {},
   "outputs": [
    {
     "name": "stdout",
     "output_type": "stream",
     "text": [
      "200\n",
      "202\n",
      "204\n",
      "206\n",
      "208\n",
      "211\n",
      "213\n",
      "215\n",
      "217\n",
      "219\n",
      "220\n",
      "222\n",
      "224\n",
      "226\n",
      "228\n",
      "231\n",
      "233\n",
      "235\n",
      "237\n",
      "239\n",
      "240\n",
      "242\n",
      "244\n",
      "246\n",
      "248\n",
      "251\n",
      "253\n",
      "255\n",
      "257\n",
      "259\n",
      "260\n",
      "262\n",
      "264\n",
      "266\n",
      "268\n",
      "271\n",
      "273\n",
      "275\n",
      "277\n",
      "279\n",
      "280\n",
      "282\n",
      "284\n",
      "286\n",
      "288\n",
      "291\n",
      "293\n",
      "295\n",
      "297\n",
      "299\n"
     ]
    }
   ],
   "source": [
    "def sum_of_digits_is_even(number):\n",
    "    digit_sum = 0\n",
    "    while number > 0:\n",
    "        digit_sum += number % 10\n",
    "        number //= 10\n",
    "    return digit_sum % 2 == 0\n",
    "\n",
    "def find_integers_with_even_digit_sum(a, b):\n",
    "    if a < 200 or b > 300 or a > b:\n",
    "        print(\"Invalid range. Please use a range between 200 and 300.\")\n",
    "        return\n",
    "\n",
    "    for num in range(a, b + 1):\n",
    "        if sum_of_digits_is_even(num):\n",
    "            print(num)\n",
    "\n",
    "find_integers_with_even_digit_sum(200, 300)"
   ]
  },
  {
   "cell_type": "markdown",
   "id": "5049a18c",
   "metadata": {},
   "source": [
    "# 12. Write a python function to find the number of digits and sum of digits for a given integer."
   ]
  },
  {
   "cell_type": "code",
   "execution_count": null,
   "id": "ad7eccbb",
   "metadata": {},
   "outputs": [],
   "source": [
    "def digits(num):\n",
    "  \n",
    "    num_str1 = str(num)   # Convert the integer to a string\n",
    "    \n",
    "  \n",
    "    num_digits = len(num_str1)   # Calculate the number of digits\n",
    "    \n",
    "   \n",
    "    digit_sum = sum(int(digit) for digit in num_str1)  # Calculate the sum of digits\n",
    "    \n",
    "   \n",
    "    return num_digits, digit_sum  # Return the number of digits and the sum of digits\n",
    "\n",
    "\n",
    "num = 12345\n",
    "num_digits, digit_sum = digits(num)\n",
    "print(\"Number of digits:\", num_digits)\n",
    "print(\"Sum of digits:\", digit_sum)\n"
   ]
  },
  {
   "cell_type": "markdown",
   "id": "a7071ebf",
   "metadata": {},
   "source": [
    "# 13. Write a function called is_sorted that takes a list as a parameter and returns True if the list is sorted in ascending order and false otherwise and has_duplicates that takes a list and returns true if there is any element that appears more than once. It should not modify the original list."
   ]
  },
  {
   "cell_type": "code",
   "execution_count": 97,
   "id": "0bae6395",
   "metadata": {},
   "outputs": [
    {
     "name": "stdout",
     "output_type": "stream",
     "text": [
      "True\n",
      "False\n",
      "True\n"
     ]
    }
   ],
   "source": [
    "def is_sorted(input_list):\n",
    "    # Check if the list is sorted in ascending order\n",
    "    return all(input_list[i] <= input_list[i+1] for i in range(len(input_list)-1))\n",
    "\n",
    "def has_duplicates(input_list):\n",
    "    # Create a set to keep track of seen elements\n",
    "    seen = set()\n",
    "    \n",
    "    for item in input_list:\n",
    "        if item in seen:\n",
    "            return True  # Found a duplicate\n",
    "        seen.add(item)\n",
    "    \n",
    "    return False  # No duplicates found\n",
    "\n",
    "\n",
    "my_list = [1, 2, 3, 4, 5]\n",
    "print(is_sorted(my_list))  \n",
    "\n",
    "my_list = [5, 4, 3, 2, 1]\n",
    "print(is_sorted(my_list))  \n",
    "\n",
    "my_list = [30, 40, 50, 60, 70]\n",
    "print(is_sorted(my_list))\n"
   ]
  },
  {
   "cell_type": "markdown",
   "id": "b8e86194",
   "metadata": {},
   "source": [
    "# 14.Write function called nested_sum that takes a list of integers and adds up the elements from all the nested lists and cumsum that takes a list of numbers and return the cumulative sum; that is, a new list where the ith element is the sum of the first i+1 elements from the original list."
   ]
  },
  {
   "cell_type": "code",
   "execution_count": 106,
   "id": "9cce430e",
   "metadata": {},
   "outputs": [
    {
     "ename": "TypeError",
     "evalue": "isinstance() arg 2 must be a type, a tuple of types, or a union",
     "output_type": "error",
     "traceback": [
      "\u001b[1;31m---------------------------------------------------------------------------\u001b[0m",
      "\u001b[1;31mTypeError\u001b[0m                                 Traceback (most recent call last)",
      "Cell \u001b[1;32mIn[106], line 29\u001b[0m\n\u001b[0;32m     24\u001b[0m     \u001b[38;5;28;01mreturn\u001b[39;00m cumulative_list\n\u001b[0;32m     27\u001b[0m input1 \u001b[38;5;241m=\u001b[39m [\u001b[38;5;241m40\u001b[39m, \u001b[38;5;241m20\u001b[39m, [\u001b[38;5;241m50\u001b[39m,\u001b[38;5;241m80\u001b[39m],\u001b[38;5;241m10\u001b[39m]\n\u001b[1;32m---> 29\u001b[0m \u001b[38;5;28mprint\u001b[39m(\u001b[38;5;124m\"\u001b[39m\u001b[38;5;124mnested sum:\u001b[39m\u001b[38;5;124m\"\u001b[39m, nested_sum(input1))\n\u001b[0;32m     31\u001b[0m input2 \u001b[38;5;241m=\u001b[39m [\u001b[38;5;241m6\u001b[39m,\u001b[38;5;241m7\u001b[39m,\u001b[38;5;241m9\u001b[39m,\u001b[38;5;241m11\u001b[39m,\u001b[38;5;241m13\u001b[39m]\n\u001b[0;32m     33\u001b[0m \u001b[38;5;28mprint\u001b[39m(\u001b[38;5;124m\"\u001b[39m\u001b[38;5;124mThe cumulative sum of the list is:\u001b[39m\u001b[38;5;124m\"\u001b[39m, cumsum(input2))\n",
      "Cell \u001b[1;32mIn[106], line 7\u001b[0m, in \u001b[0;36mnested_sum\u001b[1;34m(lst)\u001b[0m\n\u001b[0;32m      3\u001b[0m total_sum \u001b[38;5;241m=\u001b[39m \u001b[38;5;241m0\u001b[39m\n\u001b[0;32m      5\u001b[0m \u001b[38;5;28;01mfor\u001b[39;00m sublist \u001b[38;5;129;01min\u001b[39;00m lst:\n\u001b[1;32m----> 7\u001b[0m     \u001b[38;5;28;01mif\u001b[39;00m \u001b[38;5;28misinstance\u001b[39m(sublist, \u001b[38;5;28mlist\u001b[39m):\n\u001b[0;32m      9\u001b[0m         total_sum \u001b[38;5;241m+\u001b[39m\u001b[38;5;241m=\u001b[39m nested_sum(sublist)\n\u001b[0;32m     11\u001b[0m     \u001b[38;5;28;01melse\u001b[39;00m:\n",
      "\u001b[1;31mTypeError\u001b[0m: isinstance() arg 2 must be a type, a tuple of types, or a union"
     ]
    }
   ],
   "source": [
    "def nested_sum(lst):\n",
    "    \n",
    "    total_sum = 0\n",
    "    \n",
    "    for sublist in lst:\n",
    "        \n",
    "        if isinstance(sublist, list):\n",
    "            \n",
    "            total_sum += nested_sum(sublist)\n",
    "            \n",
    "        else:\n",
    "            \n",
    "            total_sum += sublist\n",
    "            \n",
    "    return total_sum\n",
    "\n",
    "def cumsum(lst):\n",
    "    cumulative_list = []\n",
    "    running_sum = 0\n",
    "    for num in lst:\n",
    "        running_sum += num\n",
    "        cumulative_list.append(running_sum)\n",
    "        \n",
    "    return cumulative_list\n",
    "\n",
    "\n",
    "input1 = [40, 20, [50,80],10]\n",
    "\n",
    "print(\"nested sum:\", nested_sum(input1))\n",
    "\n",
    "input2 = [6,7,9,11,13]\n",
    "\n",
    "print(\"The cumulative sum of the list is:\", cumsum(input2))"
   ]
  },
  {
   "cell_type": "code",
   "execution_count": null,
   "id": "dc721ee9",
   "metadata": {},
   "outputs": [],
   "source": []
  }
 ],
 "metadata": {
  "kernelspec": {
   "display_name": "Python 3 (ipykernel)",
   "language": "python",
   "name": "python3"
  },
  "language_info": {
   "codemirror_mode": {
    "name": "ipython",
    "version": 3
   },
   "file_extension": ".py",
   "mimetype": "text/x-python",
   "name": "python",
   "nbconvert_exporter": "python",
   "pygments_lexer": "ipython3",
   "version": "3.11.4"
  }
 },
 "nbformat": 4,
 "nbformat_minor": 5
}
